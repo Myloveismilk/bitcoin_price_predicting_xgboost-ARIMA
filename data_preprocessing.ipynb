{
  "cells": [
    {
      "cell_type": "code",
      "execution_count": 1,
      "metadata": {
        "id": "x34rDj26hj7r"
      },
      "outputs": [],
      "source": [
        "import pandas as pd\n",
        "import zipfile\n",
        "import glob"
      ]
    },
    {
      "cell_type": "markdown",
      "source": [
        "## Step 1: Read multiple csv files zipped in one file and concatenate them."
      ],
      "metadata": {
        "id": "DEjZaq5nB7gs"
      }
    },
    {
      "cell_type": "code",
      "source": [
        "#Read the zip file that contains multiple csv file\n",
        "from zipfile import ZipFile\n",
        "from google.colab import files\n",
        "!wget 'https://raw.githubusercontent.com/Myloveismilk/vn_stock_price/main/data/archive.zip'\n",
        "url = '/content/archive.zip'\n",
        "df = pd.concat(\n",
        "    [pd.read_csv(ZipFile(url).open(i)) for i in ZipFile(url).namelist()],\n",
        "    ignore_index=True\n",
        ")"
      ],
      "metadata": {
        "id": "9Dm_NoAIic_2",
        "colab": {
          "base_uri": "https://localhost:8080/"
        },
        "outputId": "26c1ce02-c428-470c-a488-efca2583188c"
      },
      "execution_count": 2,
      "outputs": [
        {
          "output_type": "stream",
          "name": "stdout",
          "text": [
            "--2022-10-10 04:02:28--  https://raw.githubusercontent.com/Myloveismilk/vn_stock_price/main/data/archive.zip\n",
            "Resolving raw.githubusercontent.com (raw.githubusercontent.com)... 185.199.108.133, 185.199.109.133, 185.199.110.133, ...\n",
            "Connecting to raw.githubusercontent.com (raw.githubusercontent.com)|185.199.108.133|:443... connected.\n",
            "HTTP request sent, awaiting response... 200 OK\n",
            "Length: 3066402 (2.9M) [application/zip]\n",
            "Saving to: ‘archive.zip’\n",
            "\n",
            "archive.zip         100%[===================>]   2.92M  19.2MB/s    in 0.2s    \n",
            "\n",
            "2022-10-10 04:02:28 (19.2 MB/s) - ‘archive.zip’ saved [3066402/3066402]\n",
            "\n"
          ]
        }
      ]
    },
    {
      "cell_type": "code",
      "source": [
        "#See the first 5 rows of the dataset\n",
        "df.head()"
      ],
      "metadata": {
        "id": "QpERCIM7AAJl",
        "outputId": "cb671d9f-debd-4258-918a-f36b319aa199",
        "colab": {
          "base_uri": "https://localhost:8080/",
          "height": 392
        }
      },
      "execution_count": 3,
      "outputs": [
        {
          "output_type": "execute_result",
          "data": {
            "text/plain": [
              "                       Open Time     Open     High      Low    Close  \\\n",
              "0  2019-07-30 00:00:00.000000000  9509.07  9535.00  9503.07  9517.75   \n",
              "1  2019-07-30 00:30:00.000000000  9517.03  9539.00  9507.00  9532.58   \n",
              "2  2019-07-30 01:00:00.000000000  9533.59  9534.00  9500.00  9500.25   \n",
              "3  2019-07-30 01:30:00.000000000  9500.25  9514.46  9460.71  9465.25   \n",
              "4  2019-07-30 02:00:00.000000000  9465.25  9488.94  9430.01  9460.42   \n",
              "\n",
              "       Volume                     Close Time  Quote Asset Volume  \\\n",
              "0  381.293856  2019-07-30 00:29:59.999000064        3.631211e+06   \n",
              "1  258.514869  2019-07-30 00:59:59.999000064        2.462134e+06   \n",
              "2  275.797270  2019-07-30 01:29:59.999000064        2.624322e+06   \n",
              "3  485.218470  2019-07-30 01:59:59.999000064        4.604004e+06   \n",
              "4  498.669626  2019-07-30 02:29:59.999000064        4.717269e+06   \n",
              "\n",
              "   Number of Trades  TB Base Volume  TB Quote Volume  Ignore  \n",
              "0              3492      216.528742     2.062189e+06       0  \n",
              "1              3133      141.887550     1.351182e+06       0  \n",
              "2              3583      114.238457     1.087402e+06       0  \n",
              "3              5330      225.681291     2.141459e+06       0  \n",
              "4              6197      228.535910     2.162163e+06       0  "
            ],
            "text/html": [
              "\n",
              "  <div id=\"df-60c185ad-52db-4ac7-974b-82384fed57bb\">\n",
              "    <div class=\"colab-df-container\">\n",
              "      <div>\n",
              "<style scoped>\n",
              "    .dataframe tbody tr th:only-of-type {\n",
              "        vertical-align: middle;\n",
              "    }\n",
              "\n",
              "    .dataframe tbody tr th {\n",
              "        vertical-align: top;\n",
              "    }\n",
              "\n",
              "    .dataframe thead th {\n",
              "        text-align: right;\n",
              "    }\n",
              "</style>\n",
              "<table border=\"1\" class=\"dataframe\">\n",
              "  <thead>\n",
              "    <tr style=\"text-align: right;\">\n",
              "      <th></th>\n",
              "      <th>Open Time</th>\n",
              "      <th>Open</th>\n",
              "      <th>High</th>\n",
              "      <th>Low</th>\n",
              "      <th>Close</th>\n",
              "      <th>Volume</th>\n",
              "      <th>Close Time</th>\n",
              "      <th>Quote Asset Volume</th>\n",
              "      <th>Number of Trades</th>\n",
              "      <th>TB Base Volume</th>\n",
              "      <th>TB Quote Volume</th>\n",
              "      <th>Ignore</th>\n",
              "    </tr>\n",
              "  </thead>\n",
              "  <tbody>\n",
              "    <tr>\n",
              "      <th>0</th>\n",
              "      <td>2019-07-30 00:00:00.000000000</td>\n",
              "      <td>9509.07</td>\n",
              "      <td>9535.00</td>\n",
              "      <td>9503.07</td>\n",
              "      <td>9517.75</td>\n",
              "      <td>381.293856</td>\n",
              "      <td>2019-07-30 00:29:59.999000064</td>\n",
              "      <td>3.631211e+06</td>\n",
              "      <td>3492</td>\n",
              "      <td>216.528742</td>\n",
              "      <td>2.062189e+06</td>\n",
              "      <td>0</td>\n",
              "    </tr>\n",
              "    <tr>\n",
              "      <th>1</th>\n",
              "      <td>2019-07-30 00:30:00.000000000</td>\n",
              "      <td>9517.03</td>\n",
              "      <td>9539.00</td>\n",
              "      <td>9507.00</td>\n",
              "      <td>9532.58</td>\n",
              "      <td>258.514869</td>\n",
              "      <td>2019-07-30 00:59:59.999000064</td>\n",
              "      <td>2.462134e+06</td>\n",
              "      <td>3133</td>\n",
              "      <td>141.887550</td>\n",
              "      <td>1.351182e+06</td>\n",
              "      <td>0</td>\n",
              "    </tr>\n",
              "    <tr>\n",
              "      <th>2</th>\n",
              "      <td>2019-07-30 01:00:00.000000000</td>\n",
              "      <td>9533.59</td>\n",
              "      <td>9534.00</td>\n",
              "      <td>9500.00</td>\n",
              "      <td>9500.25</td>\n",
              "      <td>275.797270</td>\n",
              "      <td>2019-07-30 01:29:59.999000064</td>\n",
              "      <td>2.624322e+06</td>\n",
              "      <td>3583</td>\n",
              "      <td>114.238457</td>\n",
              "      <td>1.087402e+06</td>\n",
              "      <td>0</td>\n",
              "    </tr>\n",
              "    <tr>\n",
              "      <th>3</th>\n",
              "      <td>2019-07-30 01:30:00.000000000</td>\n",
              "      <td>9500.25</td>\n",
              "      <td>9514.46</td>\n",
              "      <td>9460.71</td>\n",
              "      <td>9465.25</td>\n",
              "      <td>485.218470</td>\n",
              "      <td>2019-07-30 01:59:59.999000064</td>\n",
              "      <td>4.604004e+06</td>\n",
              "      <td>5330</td>\n",
              "      <td>225.681291</td>\n",
              "      <td>2.141459e+06</td>\n",
              "      <td>0</td>\n",
              "    </tr>\n",
              "    <tr>\n",
              "      <th>4</th>\n",
              "      <td>2019-07-30 02:00:00.000000000</td>\n",
              "      <td>9465.25</td>\n",
              "      <td>9488.94</td>\n",
              "      <td>9430.01</td>\n",
              "      <td>9460.42</td>\n",
              "      <td>498.669626</td>\n",
              "      <td>2019-07-30 02:29:59.999000064</td>\n",
              "      <td>4.717269e+06</td>\n",
              "      <td>6197</td>\n",
              "      <td>228.535910</td>\n",
              "      <td>2.162163e+06</td>\n",
              "      <td>0</td>\n",
              "    </tr>\n",
              "  </tbody>\n",
              "</table>\n",
              "</div>\n",
              "      <button class=\"colab-df-convert\" onclick=\"convertToInteractive('df-60c185ad-52db-4ac7-974b-82384fed57bb')\"\n",
              "              title=\"Convert this dataframe to an interactive table.\"\n",
              "              style=\"display:none;\">\n",
              "        \n",
              "  <svg xmlns=\"http://www.w3.org/2000/svg\" height=\"24px\"viewBox=\"0 0 24 24\"\n",
              "       width=\"24px\">\n",
              "    <path d=\"M0 0h24v24H0V0z\" fill=\"none\"/>\n",
              "    <path d=\"M18.56 5.44l.94 2.06.94-2.06 2.06-.94-2.06-.94-.94-2.06-.94 2.06-2.06.94zm-11 1L8.5 8.5l.94-2.06 2.06-.94-2.06-.94L8.5 2.5l-.94 2.06-2.06.94zm10 10l.94 2.06.94-2.06 2.06-.94-2.06-.94-.94-2.06-.94 2.06-2.06.94z\"/><path d=\"M17.41 7.96l-1.37-1.37c-.4-.4-.92-.59-1.43-.59-.52 0-1.04.2-1.43.59L10.3 9.45l-7.72 7.72c-.78.78-.78 2.05 0 2.83L4 21.41c.39.39.9.59 1.41.59.51 0 1.02-.2 1.41-.59l7.78-7.78 2.81-2.81c.8-.78.8-2.07 0-2.86zM5.41 20L4 18.59l7.72-7.72 1.47 1.35L5.41 20z\"/>\n",
              "  </svg>\n",
              "      </button>\n",
              "      \n",
              "  <style>\n",
              "    .colab-df-container {\n",
              "      display:flex;\n",
              "      flex-wrap:wrap;\n",
              "      gap: 12px;\n",
              "    }\n",
              "\n",
              "    .colab-df-convert {\n",
              "      background-color: #E8F0FE;\n",
              "      border: none;\n",
              "      border-radius: 50%;\n",
              "      cursor: pointer;\n",
              "      display: none;\n",
              "      fill: #1967D2;\n",
              "      height: 32px;\n",
              "      padding: 0 0 0 0;\n",
              "      width: 32px;\n",
              "    }\n",
              "\n",
              "    .colab-df-convert:hover {\n",
              "      background-color: #E2EBFA;\n",
              "      box-shadow: 0px 1px 2px rgba(60, 64, 67, 0.3), 0px 1px 3px 1px rgba(60, 64, 67, 0.15);\n",
              "      fill: #174EA6;\n",
              "    }\n",
              "\n",
              "    [theme=dark] .colab-df-convert {\n",
              "      background-color: #3B4455;\n",
              "      fill: #D2E3FC;\n",
              "    }\n",
              "\n",
              "    [theme=dark] .colab-df-convert:hover {\n",
              "      background-color: #434B5C;\n",
              "      box-shadow: 0px 1px 3px 1px rgba(0, 0, 0, 0.15);\n",
              "      filter: drop-shadow(0px 1px 2px rgba(0, 0, 0, 0.3));\n",
              "      fill: #FFFFFF;\n",
              "    }\n",
              "  </style>\n",
              "\n",
              "      <script>\n",
              "        const buttonEl =\n",
              "          document.querySelector('#df-60c185ad-52db-4ac7-974b-82384fed57bb button.colab-df-convert');\n",
              "        buttonEl.style.display =\n",
              "          google.colab.kernel.accessAllowed ? 'block' : 'none';\n",
              "\n",
              "        async function convertToInteractive(key) {\n",
              "          const element = document.querySelector('#df-60c185ad-52db-4ac7-974b-82384fed57bb');\n",
              "          const dataTable =\n",
              "            await google.colab.kernel.invokeFunction('convertToInteractive',\n",
              "                                                     [key], {});\n",
              "          if (!dataTable) return;\n",
              "\n",
              "          const docLinkHtml = 'Like what you see? Visit the ' +\n",
              "            '<a target=\"_blank\" href=https://colab.research.google.com/notebooks/data_table.ipynb>data table notebook</a>'\n",
              "            + ' to learn more about interactive tables.';\n",
              "          element.innerHTML = '';\n",
              "          dataTable['output_type'] = 'display_data';\n",
              "          await google.colab.output.renderOutput(dataTable, element);\n",
              "          const docLink = document.createElement('div');\n",
              "          docLink.innerHTML = docLinkHtml;\n",
              "          element.appendChild(docLink);\n",
              "        }\n",
              "      </script>\n",
              "    </div>\n",
              "  </div>\n",
              "  "
            ]
          },
          "metadata": {},
          "execution_count": 3
        }
      ]
    },
    {
      "cell_type": "markdown",
      "source": [
        "## Step 2: Drop, rename some columns and format their types."
      ],
      "metadata": {
        "id": "sViQbCZTCyPk"
      }
    },
    {
      "cell_type": "code",
      "source": [
        "df.columns"
      ],
      "metadata": {
        "id": "26m_RjnS_75Y",
        "outputId": "c65d0d20-ea05-4184-a32e-56e564482c21",
        "colab": {
          "base_uri": "https://localhost:8080/"
        }
      },
      "execution_count": 4,
      "outputs": [
        {
          "output_type": "execute_result",
          "data": {
            "text/plain": [
              "Index(['Open Time', 'Open', 'High', 'Low', 'Close', 'Volume', 'Close Time',\n",
              "       'Quote Asset Volume', 'Number of Trades', 'TB Base Volume',\n",
              "       'TB Quote Volume', 'Ignore'],\n",
              "      dtype='object')"
            ]
          },
          "metadata": {},
          "execution_count": 4
        }
      ]
    },
    {
      "cell_type": "code",
      "source": [
        "#Some columns isn't necessary for predicting the bitcoin price, so let's remove it.\n",
        "df = df.drop(columns= ['Close Time','Quote Asset Volume', 'Number of Trades', 'TB Base Volume','TB Quote Volume', 'Ignore'])"
      ],
      "metadata": {
        "id": "SiIABK-HAS1K"
      },
      "execution_count": 5,
      "outputs": []
    },
    {
      "cell_type": "code",
      "source": [
        "df.columns"
      ],
      "metadata": {
        "id": "VqV41OLfBBQ4",
        "outputId": "8fc4eefb-87f9-4969-e3d2-06c81dea1b22",
        "colab": {
          "base_uri": "https://localhost:8080/"
        }
      },
      "execution_count": 6,
      "outputs": [
        {
          "output_type": "execute_result",
          "data": {
            "text/plain": [
              "Index(['Open Time', 'Open', 'High', 'Low', 'Close', 'Volume'], dtype='object')"
            ]
          },
          "metadata": {},
          "execution_count": 6
        }
      ]
    },
    {
      "cell_type": "code",
      "source": [
        "#The names of all columns seem to be not in the right format, so let's change them\n",
        "df = df.rename(columns= {'Open Time':'Date'})"
      ],
      "metadata": {
        "id": "MotY8DHxAju2"
      },
      "execution_count": 7,
      "outputs": []
    },
    {
      "cell_type": "code",
      "source": [
        "df.head()"
      ],
      "metadata": {
        "id": "wKjzIqAKBXpY",
        "outputId": "2ff731f1-0563-4ab0-8103-ccc7c1af2f75",
        "colab": {
          "base_uri": "https://localhost:8080/",
          "height": 206
        }
      },
      "execution_count": 8,
      "outputs": [
        {
          "output_type": "execute_result",
          "data": {
            "text/plain": [
              "                            Date     Open     High      Low    Close  \\\n",
              "0  2019-07-30 00:00:00.000000000  9509.07  9535.00  9503.07  9517.75   \n",
              "1  2019-07-30 00:30:00.000000000  9517.03  9539.00  9507.00  9532.58   \n",
              "2  2019-07-30 01:00:00.000000000  9533.59  9534.00  9500.00  9500.25   \n",
              "3  2019-07-30 01:30:00.000000000  9500.25  9514.46  9460.71  9465.25   \n",
              "4  2019-07-30 02:00:00.000000000  9465.25  9488.94  9430.01  9460.42   \n",
              "\n",
              "       Volume  \n",
              "0  381.293856  \n",
              "1  258.514869  \n",
              "2  275.797270  \n",
              "3  485.218470  \n",
              "4  498.669626  "
            ],
            "text/html": [
              "\n",
              "  <div id=\"df-ff2e08b6-6e02-44af-943d-999ebc7a3110\">\n",
              "    <div class=\"colab-df-container\">\n",
              "      <div>\n",
              "<style scoped>\n",
              "    .dataframe tbody tr th:only-of-type {\n",
              "        vertical-align: middle;\n",
              "    }\n",
              "\n",
              "    .dataframe tbody tr th {\n",
              "        vertical-align: top;\n",
              "    }\n",
              "\n",
              "    .dataframe thead th {\n",
              "        text-align: right;\n",
              "    }\n",
              "</style>\n",
              "<table border=\"1\" class=\"dataframe\">\n",
              "  <thead>\n",
              "    <tr style=\"text-align: right;\">\n",
              "      <th></th>\n",
              "      <th>Date</th>\n",
              "      <th>Open</th>\n",
              "      <th>High</th>\n",
              "      <th>Low</th>\n",
              "      <th>Close</th>\n",
              "      <th>Volume</th>\n",
              "    </tr>\n",
              "  </thead>\n",
              "  <tbody>\n",
              "    <tr>\n",
              "      <th>0</th>\n",
              "      <td>2019-07-30 00:00:00.000000000</td>\n",
              "      <td>9509.07</td>\n",
              "      <td>9535.00</td>\n",
              "      <td>9503.07</td>\n",
              "      <td>9517.75</td>\n",
              "      <td>381.293856</td>\n",
              "    </tr>\n",
              "    <tr>\n",
              "      <th>1</th>\n",
              "      <td>2019-07-30 00:30:00.000000000</td>\n",
              "      <td>9517.03</td>\n",
              "      <td>9539.00</td>\n",
              "      <td>9507.00</td>\n",
              "      <td>9532.58</td>\n",
              "      <td>258.514869</td>\n",
              "    </tr>\n",
              "    <tr>\n",
              "      <th>2</th>\n",
              "      <td>2019-07-30 01:00:00.000000000</td>\n",
              "      <td>9533.59</td>\n",
              "      <td>9534.00</td>\n",
              "      <td>9500.00</td>\n",
              "      <td>9500.25</td>\n",
              "      <td>275.797270</td>\n",
              "    </tr>\n",
              "    <tr>\n",
              "      <th>3</th>\n",
              "      <td>2019-07-30 01:30:00.000000000</td>\n",
              "      <td>9500.25</td>\n",
              "      <td>9514.46</td>\n",
              "      <td>9460.71</td>\n",
              "      <td>9465.25</td>\n",
              "      <td>485.218470</td>\n",
              "    </tr>\n",
              "    <tr>\n",
              "      <th>4</th>\n",
              "      <td>2019-07-30 02:00:00.000000000</td>\n",
              "      <td>9465.25</td>\n",
              "      <td>9488.94</td>\n",
              "      <td>9430.01</td>\n",
              "      <td>9460.42</td>\n",
              "      <td>498.669626</td>\n",
              "    </tr>\n",
              "  </tbody>\n",
              "</table>\n",
              "</div>\n",
              "      <button class=\"colab-df-convert\" onclick=\"convertToInteractive('df-ff2e08b6-6e02-44af-943d-999ebc7a3110')\"\n",
              "              title=\"Convert this dataframe to an interactive table.\"\n",
              "              style=\"display:none;\">\n",
              "        \n",
              "  <svg xmlns=\"http://www.w3.org/2000/svg\" height=\"24px\"viewBox=\"0 0 24 24\"\n",
              "       width=\"24px\">\n",
              "    <path d=\"M0 0h24v24H0V0z\" fill=\"none\"/>\n",
              "    <path d=\"M18.56 5.44l.94 2.06.94-2.06 2.06-.94-2.06-.94-.94-2.06-.94 2.06-2.06.94zm-11 1L8.5 8.5l.94-2.06 2.06-.94-2.06-.94L8.5 2.5l-.94 2.06-2.06.94zm10 10l.94 2.06.94-2.06 2.06-.94-2.06-.94-.94-2.06-.94 2.06-2.06.94z\"/><path d=\"M17.41 7.96l-1.37-1.37c-.4-.4-.92-.59-1.43-.59-.52 0-1.04.2-1.43.59L10.3 9.45l-7.72 7.72c-.78.78-.78 2.05 0 2.83L4 21.41c.39.39.9.59 1.41.59.51 0 1.02-.2 1.41-.59l7.78-7.78 2.81-2.81c.8-.78.8-2.07 0-2.86zM5.41 20L4 18.59l7.72-7.72 1.47 1.35L5.41 20z\"/>\n",
              "  </svg>\n",
              "      </button>\n",
              "      \n",
              "  <style>\n",
              "    .colab-df-container {\n",
              "      display:flex;\n",
              "      flex-wrap:wrap;\n",
              "      gap: 12px;\n",
              "    }\n",
              "\n",
              "    .colab-df-convert {\n",
              "      background-color: #E8F0FE;\n",
              "      border: none;\n",
              "      border-radius: 50%;\n",
              "      cursor: pointer;\n",
              "      display: none;\n",
              "      fill: #1967D2;\n",
              "      height: 32px;\n",
              "      padding: 0 0 0 0;\n",
              "      width: 32px;\n",
              "    }\n",
              "\n",
              "    .colab-df-convert:hover {\n",
              "      background-color: #E2EBFA;\n",
              "      box-shadow: 0px 1px 2px rgba(60, 64, 67, 0.3), 0px 1px 3px 1px rgba(60, 64, 67, 0.15);\n",
              "      fill: #174EA6;\n",
              "    }\n",
              "\n",
              "    [theme=dark] .colab-df-convert {\n",
              "      background-color: #3B4455;\n",
              "      fill: #D2E3FC;\n",
              "    }\n",
              "\n",
              "    [theme=dark] .colab-df-convert:hover {\n",
              "      background-color: #434B5C;\n",
              "      box-shadow: 0px 1px 3px 1px rgba(0, 0, 0, 0.15);\n",
              "      filter: drop-shadow(0px 1px 2px rgba(0, 0, 0, 0.3));\n",
              "      fill: #FFFFFF;\n",
              "    }\n",
              "  </style>\n",
              "\n",
              "      <script>\n",
              "        const buttonEl =\n",
              "          document.querySelector('#df-ff2e08b6-6e02-44af-943d-999ebc7a3110 button.colab-df-convert');\n",
              "        buttonEl.style.display =\n",
              "          google.colab.kernel.accessAllowed ? 'block' : 'none';\n",
              "\n",
              "        async function convertToInteractive(key) {\n",
              "          const element = document.querySelector('#df-ff2e08b6-6e02-44af-943d-999ebc7a3110');\n",
              "          const dataTable =\n",
              "            await google.colab.kernel.invokeFunction('convertToInteractive',\n",
              "                                                     [key], {});\n",
              "          if (!dataTable) return;\n",
              "\n",
              "          const docLinkHtml = 'Like what you see? Visit the ' +\n",
              "            '<a target=\"_blank\" href=https://colab.research.google.com/notebooks/data_table.ipynb>data table notebook</a>'\n",
              "            + ' to learn more about interactive tables.';\n",
              "          element.innerHTML = '';\n",
              "          dataTable['output_type'] = 'display_data';\n",
              "          await google.colab.output.renderOutput(dataTable, element);\n",
              "          const docLink = document.createElement('div');\n",
              "          docLink.innerHTML = docLinkHtml;\n",
              "          element.appendChild(docLink);\n",
              "        }\n",
              "      </script>\n",
              "    </div>\n",
              "  </div>\n",
              "  "
            ]
          },
          "metadata": {},
          "execution_count": 8
        }
      ]
    },
    {
      "cell_type": "code",
      "source": [
        "#Let's look at the type of each column\n",
        "df['Date'] = df['Date'].astype('string')\n",
        "df.dtypes"
      ],
      "metadata": {
        "id": "EagkqYmHBa_H",
        "outputId": "1717aef7-7a5d-493b-d451-ed9e923dd2fe",
        "colab": {
          "base_uri": "https://localhost:8080/"
        }
      },
      "execution_count": 9,
      "outputs": [
        {
          "output_type": "execute_result",
          "data": {
            "text/plain": [
              "Date       string\n",
              "Open      float64\n",
              "High      float64\n",
              "Low       float64\n",
              "Close     float64\n",
              "Volume    float64\n",
              "dtype: object"
            ]
          },
          "metadata": {},
          "execution_count": 9
        }
      ]
    },
    {
      "cell_type": "code",
      "source": [
        "#We don't need a specific time in our dataset, just need the date\n",
        "def remove_time(column):\n",
        "  temp = 0\n",
        "  for i in range(len(column)):\n",
        "    column[i] = column[i][0: 10]\n",
        "    if temp <= 10:\n",
        "      print(column[i])\n",
        "      temp += 1"
      ],
      "metadata": {
        "id": "XqxfaCMkB1M8"
      },
      "execution_count": 10,
      "outputs": []
    },
    {
      "cell_type": "code",
      "source": [
        "remove_time(df['Date'])"
      ],
      "metadata": {
        "id": "HwNXtPKeC6dS",
        "outputId": "a28ad723-14ab-406a-b30f-835bd570cc12",
        "colab": {
          "base_uri": "https://localhost:8080/"
        }
      },
      "execution_count": 11,
      "outputs": [
        {
          "output_type": "stream",
          "name": "stdout",
          "text": [
            "2019-07-30\n",
            "2019-07-30\n",
            "2019-07-30\n",
            "2019-07-30\n",
            "2019-07-30\n",
            "2019-07-30\n",
            "2019-07-30\n",
            "2019-07-30\n",
            "2019-07-30\n",
            "2019-07-30\n",
            "2019-07-30\n"
          ]
        }
      ]
    },
    {
      "cell_type": "code",
      "source": [
        "df.head()"
      ],
      "metadata": {
        "id": "13Y9iZShCGnz",
        "outputId": "85beec50-b951-42b4-dcac-133673ef7b66",
        "colab": {
          "base_uri": "https://localhost:8080/",
          "height": 206
        }
      },
      "execution_count": 12,
      "outputs": [
        {
          "output_type": "execute_result",
          "data": {
            "text/plain": [
              "         Date     Open     High      Low    Close      Volume\n",
              "0  2019-07-30  9509.07  9535.00  9503.07  9517.75  381.293856\n",
              "1  2019-07-30  9517.03  9539.00  9507.00  9532.58  258.514869\n",
              "2  2019-07-30  9533.59  9534.00  9500.00  9500.25  275.797270\n",
              "3  2019-07-30  9500.25  9514.46  9460.71  9465.25  485.218470\n",
              "4  2019-07-30  9465.25  9488.94  9430.01  9460.42  498.669626"
            ],
            "text/html": [
              "\n",
              "  <div id=\"df-e0673869-0c93-4257-a15e-e635a73a2daf\">\n",
              "    <div class=\"colab-df-container\">\n",
              "      <div>\n",
              "<style scoped>\n",
              "    .dataframe tbody tr th:only-of-type {\n",
              "        vertical-align: middle;\n",
              "    }\n",
              "\n",
              "    .dataframe tbody tr th {\n",
              "        vertical-align: top;\n",
              "    }\n",
              "\n",
              "    .dataframe thead th {\n",
              "        text-align: right;\n",
              "    }\n",
              "</style>\n",
              "<table border=\"1\" class=\"dataframe\">\n",
              "  <thead>\n",
              "    <tr style=\"text-align: right;\">\n",
              "      <th></th>\n",
              "      <th>Date</th>\n",
              "      <th>Open</th>\n",
              "      <th>High</th>\n",
              "      <th>Low</th>\n",
              "      <th>Close</th>\n",
              "      <th>Volume</th>\n",
              "    </tr>\n",
              "  </thead>\n",
              "  <tbody>\n",
              "    <tr>\n",
              "      <th>0</th>\n",
              "      <td>2019-07-30</td>\n",
              "      <td>9509.07</td>\n",
              "      <td>9535.00</td>\n",
              "      <td>9503.07</td>\n",
              "      <td>9517.75</td>\n",
              "      <td>381.293856</td>\n",
              "    </tr>\n",
              "    <tr>\n",
              "      <th>1</th>\n",
              "      <td>2019-07-30</td>\n",
              "      <td>9517.03</td>\n",
              "      <td>9539.00</td>\n",
              "      <td>9507.00</td>\n",
              "      <td>9532.58</td>\n",
              "      <td>258.514869</td>\n",
              "    </tr>\n",
              "    <tr>\n",
              "      <th>2</th>\n",
              "      <td>2019-07-30</td>\n",
              "      <td>9533.59</td>\n",
              "      <td>9534.00</td>\n",
              "      <td>9500.00</td>\n",
              "      <td>9500.25</td>\n",
              "      <td>275.797270</td>\n",
              "    </tr>\n",
              "    <tr>\n",
              "      <th>3</th>\n",
              "      <td>2019-07-30</td>\n",
              "      <td>9500.25</td>\n",
              "      <td>9514.46</td>\n",
              "      <td>9460.71</td>\n",
              "      <td>9465.25</td>\n",
              "      <td>485.218470</td>\n",
              "    </tr>\n",
              "    <tr>\n",
              "      <th>4</th>\n",
              "      <td>2019-07-30</td>\n",
              "      <td>9465.25</td>\n",
              "      <td>9488.94</td>\n",
              "      <td>9430.01</td>\n",
              "      <td>9460.42</td>\n",
              "      <td>498.669626</td>\n",
              "    </tr>\n",
              "  </tbody>\n",
              "</table>\n",
              "</div>\n",
              "      <button class=\"colab-df-convert\" onclick=\"convertToInteractive('df-e0673869-0c93-4257-a15e-e635a73a2daf')\"\n",
              "              title=\"Convert this dataframe to an interactive table.\"\n",
              "              style=\"display:none;\">\n",
              "        \n",
              "  <svg xmlns=\"http://www.w3.org/2000/svg\" height=\"24px\"viewBox=\"0 0 24 24\"\n",
              "       width=\"24px\">\n",
              "    <path d=\"M0 0h24v24H0V0z\" fill=\"none\"/>\n",
              "    <path d=\"M18.56 5.44l.94 2.06.94-2.06 2.06-.94-2.06-.94-.94-2.06-.94 2.06-2.06.94zm-11 1L8.5 8.5l.94-2.06 2.06-.94-2.06-.94L8.5 2.5l-.94 2.06-2.06.94zm10 10l.94 2.06.94-2.06 2.06-.94-2.06-.94-.94-2.06-.94 2.06-2.06.94z\"/><path d=\"M17.41 7.96l-1.37-1.37c-.4-.4-.92-.59-1.43-.59-.52 0-1.04.2-1.43.59L10.3 9.45l-7.72 7.72c-.78.78-.78 2.05 0 2.83L4 21.41c.39.39.9.59 1.41.59.51 0 1.02-.2 1.41-.59l7.78-7.78 2.81-2.81c.8-.78.8-2.07 0-2.86zM5.41 20L4 18.59l7.72-7.72 1.47 1.35L5.41 20z\"/>\n",
              "  </svg>\n",
              "      </button>\n",
              "      \n",
              "  <style>\n",
              "    .colab-df-container {\n",
              "      display:flex;\n",
              "      flex-wrap:wrap;\n",
              "      gap: 12px;\n",
              "    }\n",
              "\n",
              "    .colab-df-convert {\n",
              "      background-color: #E8F0FE;\n",
              "      border: none;\n",
              "      border-radius: 50%;\n",
              "      cursor: pointer;\n",
              "      display: none;\n",
              "      fill: #1967D2;\n",
              "      height: 32px;\n",
              "      padding: 0 0 0 0;\n",
              "      width: 32px;\n",
              "    }\n",
              "\n",
              "    .colab-df-convert:hover {\n",
              "      background-color: #E2EBFA;\n",
              "      box-shadow: 0px 1px 2px rgba(60, 64, 67, 0.3), 0px 1px 3px 1px rgba(60, 64, 67, 0.15);\n",
              "      fill: #174EA6;\n",
              "    }\n",
              "\n",
              "    [theme=dark] .colab-df-convert {\n",
              "      background-color: #3B4455;\n",
              "      fill: #D2E3FC;\n",
              "    }\n",
              "\n",
              "    [theme=dark] .colab-df-convert:hover {\n",
              "      background-color: #434B5C;\n",
              "      box-shadow: 0px 1px 3px 1px rgba(0, 0, 0, 0.15);\n",
              "      filter: drop-shadow(0px 1px 2px rgba(0, 0, 0, 0.3));\n",
              "      fill: #FFFFFF;\n",
              "    }\n",
              "  </style>\n",
              "\n",
              "      <script>\n",
              "        const buttonEl =\n",
              "          document.querySelector('#df-e0673869-0c93-4257-a15e-e635a73a2daf button.colab-df-convert');\n",
              "        buttonEl.style.display =\n",
              "          google.colab.kernel.accessAllowed ? 'block' : 'none';\n",
              "\n",
              "        async function convertToInteractive(key) {\n",
              "          const element = document.querySelector('#df-e0673869-0c93-4257-a15e-e635a73a2daf');\n",
              "          const dataTable =\n",
              "            await google.colab.kernel.invokeFunction('convertToInteractive',\n",
              "                                                     [key], {});\n",
              "          if (!dataTable) return;\n",
              "\n",
              "          const docLinkHtml = 'Like what you see? Visit the ' +\n",
              "            '<a target=\"_blank\" href=https://colab.research.google.com/notebooks/data_table.ipynb>data table notebook</a>'\n",
              "            + ' to learn more about interactive tables.';\n",
              "          element.innerHTML = '';\n",
              "          dataTable['output_type'] = 'display_data';\n",
              "          await google.colab.output.renderOutput(dataTable, element);\n",
              "          const docLink = document.createElement('div');\n",
              "          docLink.innerHTML = docLinkHtml;\n",
              "          element.appendChild(docLink);\n",
              "        }\n",
              "      </script>\n",
              "    </div>\n",
              "  </div>\n",
              "  "
            ]
          },
          "metadata": {},
          "execution_count": 12
        }
      ]
    },
    {
      "cell_type": "code",
      "source": [
        "df.tail()"
      ],
      "metadata": {
        "id": "C0KUkgXmEK2g",
        "outputId": "8040d0e0-4d5f-41d2-ba93-fea5ce56149e",
        "colab": {
          "base_uri": "https://localhost:8080/",
          "height": 206
        }
      },
      "execution_count": 13,
      "outputs": [
        {
          "output_type": "execute_result",
          "data": {
            "text/plain": [
              "             Date      Open      High       Low     Close       Volume\n",
              "55377  2022-09-27  19492.21  19499.25  18918.77  19110.79  26161.20797\n",
              "55378  2022-09-27  19110.79  19115.89  18863.70  18951.06  18934.52059\n",
              "55379  2022-09-27  18951.06  19036.61  18863.01  18957.20  16295.64670\n",
              "55380  2022-09-27  18957.95  18997.46  18816.32  18951.87  15640.01557\n",
              "55381  2022-09-27  18950.71  19159.83  18924.64  19103.23  15654.96482"
            ],
            "text/html": [
              "\n",
              "  <div id=\"df-c9316c2c-76ca-46fd-a67d-26f73b409357\">\n",
              "    <div class=\"colab-df-container\">\n",
              "      <div>\n",
              "<style scoped>\n",
              "    .dataframe tbody tr th:only-of-type {\n",
              "        vertical-align: middle;\n",
              "    }\n",
              "\n",
              "    .dataframe tbody tr th {\n",
              "        vertical-align: top;\n",
              "    }\n",
              "\n",
              "    .dataframe thead th {\n",
              "        text-align: right;\n",
              "    }\n",
              "</style>\n",
              "<table border=\"1\" class=\"dataframe\">\n",
              "  <thead>\n",
              "    <tr style=\"text-align: right;\">\n",
              "      <th></th>\n",
              "      <th>Date</th>\n",
              "      <th>Open</th>\n",
              "      <th>High</th>\n",
              "      <th>Low</th>\n",
              "      <th>Close</th>\n",
              "      <th>Volume</th>\n",
              "    </tr>\n",
              "  </thead>\n",
              "  <tbody>\n",
              "    <tr>\n",
              "      <th>55377</th>\n",
              "      <td>2022-09-27</td>\n",
              "      <td>19492.21</td>\n",
              "      <td>19499.25</td>\n",
              "      <td>18918.77</td>\n",
              "      <td>19110.79</td>\n",
              "      <td>26161.20797</td>\n",
              "    </tr>\n",
              "    <tr>\n",
              "      <th>55378</th>\n",
              "      <td>2022-09-27</td>\n",
              "      <td>19110.79</td>\n",
              "      <td>19115.89</td>\n",
              "      <td>18863.70</td>\n",
              "      <td>18951.06</td>\n",
              "      <td>18934.52059</td>\n",
              "    </tr>\n",
              "    <tr>\n",
              "      <th>55379</th>\n",
              "      <td>2022-09-27</td>\n",
              "      <td>18951.06</td>\n",
              "      <td>19036.61</td>\n",
              "      <td>18863.01</td>\n",
              "      <td>18957.20</td>\n",
              "      <td>16295.64670</td>\n",
              "    </tr>\n",
              "    <tr>\n",
              "      <th>55380</th>\n",
              "      <td>2022-09-27</td>\n",
              "      <td>18957.95</td>\n",
              "      <td>18997.46</td>\n",
              "      <td>18816.32</td>\n",
              "      <td>18951.87</td>\n",
              "      <td>15640.01557</td>\n",
              "    </tr>\n",
              "    <tr>\n",
              "      <th>55381</th>\n",
              "      <td>2022-09-27</td>\n",
              "      <td>18950.71</td>\n",
              "      <td>19159.83</td>\n",
              "      <td>18924.64</td>\n",
              "      <td>19103.23</td>\n",
              "      <td>15654.96482</td>\n",
              "    </tr>\n",
              "  </tbody>\n",
              "</table>\n",
              "</div>\n",
              "      <button class=\"colab-df-convert\" onclick=\"convertToInteractive('df-c9316c2c-76ca-46fd-a67d-26f73b409357')\"\n",
              "              title=\"Convert this dataframe to an interactive table.\"\n",
              "              style=\"display:none;\">\n",
              "        \n",
              "  <svg xmlns=\"http://www.w3.org/2000/svg\" height=\"24px\"viewBox=\"0 0 24 24\"\n",
              "       width=\"24px\">\n",
              "    <path d=\"M0 0h24v24H0V0z\" fill=\"none\"/>\n",
              "    <path d=\"M18.56 5.44l.94 2.06.94-2.06 2.06-.94-2.06-.94-.94-2.06-.94 2.06-2.06.94zm-11 1L8.5 8.5l.94-2.06 2.06-.94-2.06-.94L8.5 2.5l-.94 2.06-2.06.94zm10 10l.94 2.06.94-2.06 2.06-.94-2.06-.94-.94-2.06-.94 2.06-2.06.94z\"/><path d=\"M17.41 7.96l-1.37-1.37c-.4-.4-.92-.59-1.43-.59-.52 0-1.04.2-1.43.59L10.3 9.45l-7.72 7.72c-.78.78-.78 2.05 0 2.83L4 21.41c.39.39.9.59 1.41.59.51 0 1.02-.2 1.41-.59l7.78-7.78 2.81-2.81c.8-.78.8-2.07 0-2.86zM5.41 20L4 18.59l7.72-7.72 1.47 1.35L5.41 20z\"/>\n",
              "  </svg>\n",
              "      </button>\n",
              "      \n",
              "  <style>\n",
              "    .colab-df-container {\n",
              "      display:flex;\n",
              "      flex-wrap:wrap;\n",
              "      gap: 12px;\n",
              "    }\n",
              "\n",
              "    .colab-df-convert {\n",
              "      background-color: #E8F0FE;\n",
              "      border: none;\n",
              "      border-radius: 50%;\n",
              "      cursor: pointer;\n",
              "      display: none;\n",
              "      fill: #1967D2;\n",
              "      height: 32px;\n",
              "      padding: 0 0 0 0;\n",
              "      width: 32px;\n",
              "    }\n",
              "\n",
              "    .colab-df-convert:hover {\n",
              "      background-color: #E2EBFA;\n",
              "      box-shadow: 0px 1px 2px rgba(60, 64, 67, 0.3), 0px 1px 3px 1px rgba(60, 64, 67, 0.15);\n",
              "      fill: #174EA6;\n",
              "    }\n",
              "\n",
              "    [theme=dark] .colab-df-convert {\n",
              "      background-color: #3B4455;\n",
              "      fill: #D2E3FC;\n",
              "    }\n",
              "\n",
              "    [theme=dark] .colab-df-convert:hover {\n",
              "      background-color: #434B5C;\n",
              "      box-shadow: 0px 1px 3px 1px rgba(0, 0, 0, 0.15);\n",
              "      filter: drop-shadow(0px 1px 2px rgba(0, 0, 0, 0.3));\n",
              "      fill: #FFFFFF;\n",
              "    }\n",
              "  </style>\n",
              "\n",
              "      <script>\n",
              "        const buttonEl =\n",
              "          document.querySelector('#df-c9316c2c-76ca-46fd-a67d-26f73b409357 button.colab-df-convert');\n",
              "        buttonEl.style.display =\n",
              "          google.colab.kernel.accessAllowed ? 'block' : 'none';\n",
              "\n",
              "        async function convertToInteractive(key) {\n",
              "          const element = document.querySelector('#df-c9316c2c-76ca-46fd-a67d-26f73b409357');\n",
              "          const dataTable =\n",
              "            await google.colab.kernel.invokeFunction('convertToInteractive',\n",
              "                                                     [key], {});\n",
              "          if (!dataTable) return;\n",
              "\n",
              "          const docLinkHtml = 'Like what you see? Visit the ' +\n",
              "            '<a target=\"_blank\" href=https://colab.research.google.com/notebooks/data_table.ipynb>data table notebook</a>'\n",
              "            + ' to learn more about interactive tables.';\n",
              "          element.innerHTML = '';\n",
              "          dataTable['output_type'] = 'display_data';\n",
              "          await google.colab.output.renderOutput(dataTable, element);\n",
              "          const docLink = document.createElement('div');\n",
              "          docLink.innerHTML = docLinkHtml;\n",
              "          element.appendChild(docLink);\n",
              "        }\n",
              "      </script>\n",
              "    </div>\n",
              "  </div>\n",
              "  "
            ]
          },
          "metadata": {},
          "execution_count": 13
        }
      ]
    },
    {
      "cell_type": "markdown",
      "source": [
        "## Step 3: Handle Missings"
      ],
      "metadata": {
        "id": "8R_qd2_DD1Sn"
      }
    },
    {
      "cell_type": "code",
      "source": [
        "df.isna().sum()"
      ],
      "metadata": {
        "id": "v9cU0xUED--O",
        "outputId": "09a51fab-3ec8-4ca6-fa34-f428177a258d",
        "colab": {
          "base_uri": "https://localhost:8080/"
        }
      },
      "execution_count": 15,
      "outputs": [
        {
          "output_type": "execute_result",
          "data": {
            "text/plain": [
              "Date      0\n",
              "Open      0\n",
              "High      0\n",
              "Low       0\n",
              "Close     0\n",
              "Volume    0\n",
              "dtype: int64"
            ]
          },
          "metadata": {},
          "execution_count": 15
        }
      ]
    },
    {
      "cell_type": "markdown",
      "source": [
        "There is no nan value, so we can move on to the next step."
      ],
      "metadata": {
        "id": "b2WcXcktEH20"
      }
    },
    {
      "cell_type": "markdown",
      "source": [
        "## Step 4: Data smoothing"
      ],
      "metadata": {
        "id": "9h5HSOM5EbXt"
      }
    },
    {
      "cell_type": "code",
      "source": [],
      "metadata": {
        "id": "4ikoM_lpEwSM"
      },
      "execution_count": null,
      "outputs": []
    },
    {
      "cell_type": "code",
      "source": [
        "#The dataset now look fine, let's save it for future work.\n",
        "df.to_csv('bitcoin_price.csv')"
      ],
      "metadata": {
        "id": "hPRBm74xai4H"
      },
      "execution_count": 14,
      "outputs": []
    }
  ],
  "metadata": {
    "language_info": {
      "name": "python"
    },
    "orig_nbformat": 4,
    "colab": {
      "provenance": []
    },
    "kernelspec": {
      "name": "python3",
      "display_name": "Python 3"
    }
  },
  "nbformat": 4,
  "nbformat_minor": 0
}