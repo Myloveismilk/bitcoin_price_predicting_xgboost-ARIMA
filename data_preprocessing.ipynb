{
  "cells": [
    {
      "cell_type": "code",
      "execution_count": 1,
      "metadata": {
        "id": "x34rDj26hj7r"
      },
      "outputs": [],
      "source": [
        "import pandas as pd\n",
        "import zipfile\n",
        "import glob\n",
        "import matplotlib.pyplot as plt"
      ]
    },
    {
      "cell_type": "markdown",
      "source": [
        "## Step 1: Read multiple csv files zipped in one file and concatenate them."
      ],
      "metadata": {
        "id": "DEjZaq5nB7gs"
      }
    },
    {
      "cell_type": "code",
      "source": [
        "#Read the zip file that contains multiple csv file\n",
        "from zipfile import ZipFile\n",
        "from google.colab import files\n",
        "!wget 'https://raw.githubusercontent.com/Myloveismilk/vn_stock_price/main/data/archive.zip'\n",
        "url = '/content/archive.zip'\n",
        "df = pd.concat(\n",
        "    [pd.read_csv(ZipFile(url).open(i)) for i in ZipFile(url).namelist()],\n",
        "    ignore_index=True\n",
        ")"
      ],
      "metadata": {
        "id": "9Dm_NoAIic_2",
        "colab": {
          "base_uri": "https://localhost:8080/"
        },
        "outputId": "db0bf8e8-7b09-4b2d-e86f-bcbe3989fe54"
      },
      "execution_count": 2,
      "outputs": [
        {
          "output_type": "stream",
          "name": "stdout",
          "text": [
            "--2022-10-18 08:26:29--  https://raw.githubusercontent.com/Myloveismilk/vn_stock_price/main/data/archive.zip\n",
            "Resolving raw.githubusercontent.com (raw.githubusercontent.com)... 185.199.108.133, 185.199.109.133, 185.199.110.133, ...\n",
            "Connecting to raw.githubusercontent.com (raw.githubusercontent.com)|185.199.108.133|:443... connected.\n",
            "HTTP request sent, awaiting response... 200 OK\n",
            "Length: 3066402 (2.9M) [application/zip]\n",
            "Saving to: ‘archive.zip’\n",
            "\n",
            "archive.zip         100%[===================>]   2.92M  --.-KB/s    in 0.04s   \n",
            "\n",
            "2022-10-18 08:26:30 (66.9 MB/s) - ‘archive.zip’ saved [3066402/3066402]\n",
            "\n"
          ]
        }
      ]
    },
    {
      "cell_type": "code",
      "source": [
        "#See the first 5 rows of the dataset\n",
        "df.head()"
      ],
      "metadata": {
        "id": "QpERCIM7AAJl",
        "outputId": "a60ca7d9-41bd-4533-addd-45d03c6edbf3",
        "colab": {
          "base_uri": "https://localhost:8080/",
          "height": 206
        }
      },
      "execution_count": 3,
      "outputs": [
        {
          "output_type": "execute_result",
          "data": {
            "text/plain": [
              "                       Open Time     Open     High      Low    Close  \\\n",
              "0  2019-07-30 00:00:00.000000000  9509.07  9535.00  9503.07  9517.75   \n",
              "1  2019-07-30 00:30:00.000000000  9517.03  9539.00  9507.00  9532.58   \n",
              "2  2019-07-30 01:00:00.000000000  9533.59  9534.00  9500.00  9500.25   \n",
              "3  2019-07-30 01:30:00.000000000  9500.25  9514.46  9460.71  9465.25   \n",
              "4  2019-07-30 02:00:00.000000000  9465.25  9488.94  9430.01  9460.42   \n",
              "\n",
              "       Volume                     Close Time  Quote Asset Volume  \\\n",
              "0  381.293856  2019-07-30 00:29:59.999000064        3.631211e+06   \n",
              "1  258.514869  2019-07-30 00:59:59.999000064        2.462134e+06   \n",
              "2  275.797270  2019-07-30 01:29:59.999000064        2.624322e+06   \n",
              "3  485.218470  2019-07-30 01:59:59.999000064        4.604004e+06   \n",
              "4  498.669626  2019-07-30 02:29:59.999000064        4.717269e+06   \n",
              "\n",
              "   Number of Trades  TB Base Volume  TB Quote Volume  Ignore  \n",
              "0              3492      216.528742     2.062189e+06       0  \n",
              "1              3133      141.887550     1.351182e+06       0  \n",
              "2              3583      114.238457     1.087402e+06       0  \n",
              "3              5330      225.681291     2.141459e+06       0  \n",
              "4              6197      228.535910     2.162163e+06       0  "
            ],
            "text/html": [
              "\n",
              "  <div id=\"df-6f261a1b-129d-4588-b546-2f0663b4a347\">\n",
              "    <div class=\"colab-df-container\">\n",
              "      <div>\n",
              "<style scoped>\n",
              "    .dataframe tbody tr th:only-of-type {\n",
              "        vertical-align: middle;\n",
              "    }\n",
              "\n",
              "    .dataframe tbody tr th {\n",
              "        vertical-align: top;\n",
              "    }\n",
              "\n",
              "    .dataframe thead th {\n",
              "        text-align: right;\n",
              "    }\n",
              "</style>\n",
              "<table border=\"1\" class=\"dataframe\">\n",
              "  <thead>\n",
              "    <tr style=\"text-align: right;\">\n",
              "      <th></th>\n",
              "      <th>Open Time</th>\n",
              "      <th>Open</th>\n",
              "      <th>High</th>\n",
              "      <th>Low</th>\n",
              "      <th>Close</th>\n",
              "      <th>Volume</th>\n",
              "      <th>Close Time</th>\n",
              "      <th>Quote Asset Volume</th>\n",
              "      <th>Number of Trades</th>\n",
              "      <th>TB Base Volume</th>\n",
              "      <th>TB Quote Volume</th>\n",
              "      <th>Ignore</th>\n",
              "    </tr>\n",
              "  </thead>\n",
              "  <tbody>\n",
              "    <tr>\n",
              "      <th>0</th>\n",
              "      <td>2019-07-30 00:00:00.000000000</td>\n",
              "      <td>9509.07</td>\n",
              "      <td>9535.00</td>\n",
              "      <td>9503.07</td>\n",
              "      <td>9517.75</td>\n",
              "      <td>381.293856</td>\n",
              "      <td>2019-07-30 00:29:59.999000064</td>\n",
              "      <td>3.631211e+06</td>\n",
              "      <td>3492</td>\n",
              "      <td>216.528742</td>\n",
              "      <td>2.062189e+06</td>\n",
              "      <td>0</td>\n",
              "    </tr>\n",
              "    <tr>\n",
              "      <th>1</th>\n",
              "      <td>2019-07-30 00:30:00.000000000</td>\n",
              "      <td>9517.03</td>\n",
              "      <td>9539.00</td>\n",
              "      <td>9507.00</td>\n",
              "      <td>9532.58</td>\n",
              "      <td>258.514869</td>\n",
              "      <td>2019-07-30 00:59:59.999000064</td>\n",
              "      <td>2.462134e+06</td>\n",
              "      <td>3133</td>\n",
              "      <td>141.887550</td>\n",
              "      <td>1.351182e+06</td>\n",
              "      <td>0</td>\n",
              "    </tr>\n",
              "    <tr>\n",
              "      <th>2</th>\n",
              "      <td>2019-07-30 01:00:00.000000000</td>\n",
              "      <td>9533.59</td>\n",
              "      <td>9534.00</td>\n",
              "      <td>9500.00</td>\n",
              "      <td>9500.25</td>\n",
              "      <td>275.797270</td>\n",
              "      <td>2019-07-30 01:29:59.999000064</td>\n",
              "      <td>2.624322e+06</td>\n",
              "      <td>3583</td>\n",
              "      <td>114.238457</td>\n",
              "      <td>1.087402e+06</td>\n",
              "      <td>0</td>\n",
              "    </tr>\n",
              "    <tr>\n",
              "      <th>3</th>\n",
              "      <td>2019-07-30 01:30:00.000000000</td>\n",
              "      <td>9500.25</td>\n",
              "      <td>9514.46</td>\n",
              "      <td>9460.71</td>\n",
              "      <td>9465.25</td>\n",
              "      <td>485.218470</td>\n",
              "      <td>2019-07-30 01:59:59.999000064</td>\n",
              "      <td>4.604004e+06</td>\n",
              "      <td>5330</td>\n",
              "      <td>225.681291</td>\n",
              "      <td>2.141459e+06</td>\n",
              "      <td>0</td>\n",
              "    </tr>\n",
              "    <tr>\n",
              "      <th>4</th>\n",
              "      <td>2019-07-30 02:00:00.000000000</td>\n",
              "      <td>9465.25</td>\n",
              "      <td>9488.94</td>\n",
              "      <td>9430.01</td>\n",
              "      <td>9460.42</td>\n",
              "      <td>498.669626</td>\n",
              "      <td>2019-07-30 02:29:59.999000064</td>\n",
              "      <td>4.717269e+06</td>\n",
              "      <td>6197</td>\n",
              "      <td>228.535910</td>\n",
              "      <td>2.162163e+06</td>\n",
              "      <td>0</td>\n",
              "    </tr>\n",
              "  </tbody>\n",
              "</table>\n",
              "</div>\n",
              "      <button class=\"colab-df-convert\" onclick=\"convertToInteractive('df-6f261a1b-129d-4588-b546-2f0663b4a347')\"\n",
              "              title=\"Convert this dataframe to an interactive table.\"\n",
              "              style=\"display:none;\">\n",
              "        \n",
              "  <svg xmlns=\"http://www.w3.org/2000/svg\" height=\"24px\"viewBox=\"0 0 24 24\"\n",
              "       width=\"24px\">\n",
              "    <path d=\"M0 0h24v24H0V0z\" fill=\"none\"/>\n",
              "    <path d=\"M18.56 5.44l.94 2.06.94-2.06 2.06-.94-2.06-.94-.94-2.06-.94 2.06-2.06.94zm-11 1L8.5 8.5l.94-2.06 2.06-.94-2.06-.94L8.5 2.5l-.94 2.06-2.06.94zm10 10l.94 2.06.94-2.06 2.06-.94-2.06-.94-.94-2.06-.94 2.06-2.06.94z\"/><path d=\"M17.41 7.96l-1.37-1.37c-.4-.4-.92-.59-1.43-.59-.52 0-1.04.2-1.43.59L10.3 9.45l-7.72 7.72c-.78.78-.78 2.05 0 2.83L4 21.41c.39.39.9.59 1.41.59.51 0 1.02-.2 1.41-.59l7.78-7.78 2.81-2.81c.8-.78.8-2.07 0-2.86zM5.41 20L4 18.59l7.72-7.72 1.47 1.35L5.41 20z\"/>\n",
              "  </svg>\n",
              "      </button>\n",
              "      \n",
              "  <style>\n",
              "    .colab-df-container {\n",
              "      display:flex;\n",
              "      flex-wrap:wrap;\n",
              "      gap: 12px;\n",
              "    }\n",
              "\n",
              "    .colab-df-convert {\n",
              "      background-color: #E8F0FE;\n",
              "      border: none;\n",
              "      border-radius: 50%;\n",
              "      cursor: pointer;\n",
              "      display: none;\n",
              "      fill: #1967D2;\n",
              "      height: 32px;\n",
              "      padding: 0 0 0 0;\n",
              "      width: 32px;\n",
              "    }\n",
              "\n",
              "    .colab-df-convert:hover {\n",
              "      background-color: #E2EBFA;\n",
              "      box-shadow: 0px 1px 2px rgba(60, 64, 67, 0.3), 0px 1px 3px 1px rgba(60, 64, 67, 0.15);\n",
              "      fill: #174EA6;\n",
              "    }\n",
              "\n",
              "    [theme=dark] .colab-df-convert {\n",
              "      background-color: #3B4455;\n",
              "      fill: #D2E3FC;\n",
              "    }\n",
              "\n",
              "    [theme=dark] .colab-df-convert:hover {\n",
              "      background-color: #434B5C;\n",
              "      box-shadow: 0px 1px 3px 1px rgba(0, 0, 0, 0.15);\n",
              "      filter: drop-shadow(0px 1px 2px rgba(0, 0, 0, 0.3));\n",
              "      fill: #FFFFFF;\n",
              "    }\n",
              "  </style>\n",
              "\n",
              "      <script>\n",
              "        const buttonEl =\n",
              "          document.querySelector('#df-6f261a1b-129d-4588-b546-2f0663b4a347 button.colab-df-convert');\n",
              "        buttonEl.style.display =\n",
              "          google.colab.kernel.accessAllowed ? 'block' : 'none';\n",
              "\n",
              "        async function convertToInteractive(key) {\n",
              "          const element = document.querySelector('#df-6f261a1b-129d-4588-b546-2f0663b4a347');\n",
              "          const dataTable =\n",
              "            await google.colab.kernel.invokeFunction('convertToInteractive',\n",
              "                                                     [key], {});\n",
              "          if (!dataTable) return;\n",
              "\n",
              "          const docLinkHtml = 'Like what you see? Visit the ' +\n",
              "            '<a target=\"_blank\" href=https://colab.research.google.com/notebooks/data_table.ipynb>data table notebook</a>'\n",
              "            + ' to learn more about interactive tables.';\n",
              "          element.innerHTML = '';\n",
              "          dataTable['output_type'] = 'display_data';\n",
              "          await google.colab.output.renderOutput(dataTable, element);\n",
              "          const docLink = document.createElement('div');\n",
              "          docLink.innerHTML = docLinkHtml;\n",
              "          element.appendChild(docLink);\n",
              "        }\n",
              "      </script>\n",
              "    </div>\n",
              "  </div>\n",
              "  "
            ]
          },
          "metadata": {},
          "execution_count": 3
        }
      ]
    },
    {
      "cell_type": "markdown",
      "source": [
        "## Step 2: Drop, rename some columns and format their types."
      ],
      "metadata": {
        "id": "sViQbCZTCyPk"
      }
    },
    {
      "cell_type": "code",
      "source": [
        "df.columns"
      ],
      "metadata": {
        "id": "26m_RjnS_75Y",
        "outputId": "7a2d48f3-8f7d-44a1-9847-760cdb7526db",
        "colab": {
          "base_uri": "https://localhost:8080/"
        }
      },
      "execution_count": 4,
      "outputs": [
        {
          "output_type": "execute_result",
          "data": {
            "text/plain": [
              "Index(['Open Time', 'Open', 'High', 'Low', 'Close', 'Volume', 'Close Time',\n",
              "       'Quote Asset Volume', 'Number of Trades', 'TB Base Volume',\n",
              "       'TB Quote Volume', 'Ignore'],\n",
              "      dtype='object')"
            ]
          },
          "metadata": {},
          "execution_count": 4
        }
      ]
    },
    {
      "cell_type": "code",
      "source": [
        "#Some columns isn't necessary for predicting the bitcoin price, so let's remove it.\n",
        "df = df.drop(columns= ['Close Time','Quote Asset Volume', 'Number of Trades', 'TB Base Volume','TB Quote Volume', 'Ignore'])"
      ],
      "metadata": {
        "id": "SiIABK-HAS1K"
      },
      "execution_count": 5,
      "outputs": []
    },
    {
      "cell_type": "code",
      "source": [
        "df.columns"
      ],
      "metadata": {
        "id": "VqV41OLfBBQ4",
        "outputId": "9f6ad2b6-6dea-4226-a513-0a8c84df8540",
        "colab": {
          "base_uri": "https://localhost:8080/"
        }
      },
      "execution_count": 6,
      "outputs": [
        {
          "output_type": "execute_result",
          "data": {
            "text/plain": [
              "Index(['Open Time', 'Open', 'High', 'Low', 'Close', 'Volume'], dtype='object')"
            ]
          },
          "metadata": {},
          "execution_count": 6
        }
      ]
    },
    {
      "cell_type": "code",
      "source": [
        "#The names of all columns seem to be not in the right format, so let's change them\n",
        "df = df.rename(columns= {'Open Time':'Date'})"
      ],
      "metadata": {
        "id": "MotY8DHxAju2"
      },
      "execution_count": 7,
      "outputs": []
    },
    {
      "cell_type": "code",
      "source": [
        "df.head()"
      ],
      "metadata": {
        "id": "wKjzIqAKBXpY",
        "outputId": "66bb580f-68b6-49c3-eb22-ffeff73a700d",
        "colab": {
          "base_uri": "https://localhost:8080/",
          "height": 206
        }
      },
      "execution_count": 8,
      "outputs": [
        {
          "output_type": "execute_result",
          "data": {
            "text/plain": [
              "                            Date     Open     High      Low    Close  \\\n",
              "0  2019-07-30 00:00:00.000000000  9509.07  9535.00  9503.07  9517.75   \n",
              "1  2019-07-30 00:30:00.000000000  9517.03  9539.00  9507.00  9532.58   \n",
              "2  2019-07-30 01:00:00.000000000  9533.59  9534.00  9500.00  9500.25   \n",
              "3  2019-07-30 01:30:00.000000000  9500.25  9514.46  9460.71  9465.25   \n",
              "4  2019-07-30 02:00:00.000000000  9465.25  9488.94  9430.01  9460.42   \n",
              "\n",
              "       Volume  \n",
              "0  381.293856  \n",
              "1  258.514869  \n",
              "2  275.797270  \n",
              "3  485.218470  \n",
              "4  498.669626  "
            ],
            "text/html": [
              "\n",
              "  <div id=\"df-d8a8d81c-4a04-4413-b080-cd3688a11d61\">\n",
              "    <div class=\"colab-df-container\">\n",
              "      <div>\n",
              "<style scoped>\n",
              "    .dataframe tbody tr th:only-of-type {\n",
              "        vertical-align: middle;\n",
              "    }\n",
              "\n",
              "    .dataframe tbody tr th {\n",
              "        vertical-align: top;\n",
              "    }\n",
              "\n",
              "    .dataframe thead th {\n",
              "        text-align: right;\n",
              "    }\n",
              "</style>\n",
              "<table border=\"1\" class=\"dataframe\">\n",
              "  <thead>\n",
              "    <tr style=\"text-align: right;\">\n",
              "      <th></th>\n",
              "      <th>Date</th>\n",
              "      <th>Open</th>\n",
              "      <th>High</th>\n",
              "      <th>Low</th>\n",
              "      <th>Close</th>\n",
              "      <th>Volume</th>\n",
              "    </tr>\n",
              "  </thead>\n",
              "  <tbody>\n",
              "    <tr>\n",
              "      <th>0</th>\n",
              "      <td>2019-07-30 00:00:00.000000000</td>\n",
              "      <td>9509.07</td>\n",
              "      <td>9535.00</td>\n",
              "      <td>9503.07</td>\n",
              "      <td>9517.75</td>\n",
              "      <td>381.293856</td>\n",
              "    </tr>\n",
              "    <tr>\n",
              "      <th>1</th>\n",
              "      <td>2019-07-30 00:30:00.000000000</td>\n",
              "      <td>9517.03</td>\n",
              "      <td>9539.00</td>\n",
              "      <td>9507.00</td>\n",
              "      <td>9532.58</td>\n",
              "      <td>258.514869</td>\n",
              "    </tr>\n",
              "    <tr>\n",
              "      <th>2</th>\n",
              "      <td>2019-07-30 01:00:00.000000000</td>\n",
              "      <td>9533.59</td>\n",
              "      <td>9534.00</td>\n",
              "      <td>9500.00</td>\n",
              "      <td>9500.25</td>\n",
              "      <td>275.797270</td>\n",
              "    </tr>\n",
              "    <tr>\n",
              "      <th>3</th>\n",
              "      <td>2019-07-30 01:30:00.000000000</td>\n",
              "      <td>9500.25</td>\n",
              "      <td>9514.46</td>\n",
              "      <td>9460.71</td>\n",
              "      <td>9465.25</td>\n",
              "      <td>485.218470</td>\n",
              "    </tr>\n",
              "    <tr>\n",
              "      <th>4</th>\n",
              "      <td>2019-07-30 02:00:00.000000000</td>\n",
              "      <td>9465.25</td>\n",
              "      <td>9488.94</td>\n",
              "      <td>9430.01</td>\n",
              "      <td>9460.42</td>\n",
              "      <td>498.669626</td>\n",
              "    </tr>\n",
              "  </tbody>\n",
              "</table>\n",
              "</div>\n",
              "      <button class=\"colab-df-convert\" onclick=\"convertToInteractive('df-d8a8d81c-4a04-4413-b080-cd3688a11d61')\"\n",
              "              title=\"Convert this dataframe to an interactive table.\"\n",
              "              style=\"display:none;\">\n",
              "        \n",
              "  <svg xmlns=\"http://www.w3.org/2000/svg\" height=\"24px\"viewBox=\"0 0 24 24\"\n",
              "       width=\"24px\">\n",
              "    <path d=\"M0 0h24v24H0V0z\" fill=\"none\"/>\n",
              "    <path d=\"M18.56 5.44l.94 2.06.94-2.06 2.06-.94-2.06-.94-.94-2.06-.94 2.06-2.06.94zm-11 1L8.5 8.5l.94-2.06 2.06-.94-2.06-.94L8.5 2.5l-.94 2.06-2.06.94zm10 10l.94 2.06.94-2.06 2.06-.94-2.06-.94-.94-2.06-.94 2.06-2.06.94z\"/><path d=\"M17.41 7.96l-1.37-1.37c-.4-.4-.92-.59-1.43-.59-.52 0-1.04.2-1.43.59L10.3 9.45l-7.72 7.72c-.78.78-.78 2.05 0 2.83L4 21.41c.39.39.9.59 1.41.59.51 0 1.02-.2 1.41-.59l7.78-7.78 2.81-2.81c.8-.78.8-2.07 0-2.86zM5.41 20L4 18.59l7.72-7.72 1.47 1.35L5.41 20z\"/>\n",
              "  </svg>\n",
              "      </button>\n",
              "      \n",
              "  <style>\n",
              "    .colab-df-container {\n",
              "      display:flex;\n",
              "      flex-wrap:wrap;\n",
              "      gap: 12px;\n",
              "    }\n",
              "\n",
              "    .colab-df-convert {\n",
              "      background-color: #E8F0FE;\n",
              "      border: none;\n",
              "      border-radius: 50%;\n",
              "      cursor: pointer;\n",
              "      display: none;\n",
              "      fill: #1967D2;\n",
              "      height: 32px;\n",
              "      padding: 0 0 0 0;\n",
              "      width: 32px;\n",
              "    }\n",
              "\n",
              "    .colab-df-convert:hover {\n",
              "      background-color: #E2EBFA;\n",
              "      box-shadow: 0px 1px 2px rgba(60, 64, 67, 0.3), 0px 1px 3px 1px rgba(60, 64, 67, 0.15);\n",
              "      fill: #174EA6;\n",
              "    }\n",
              "\n",
              "    [theme=dark] .colab-df-convert {\n",
              "      background-color: #3B4455;\n",
              "      fill: #D2E3FC;\n",
              "    }\n",
              "\n",
              "    [theme=dark] .colab-df-convert:hover {\n",
              "      background-color: #434B5C;\n",
              "      box-shadow: 0px 1px 3px 1px rgba(0, 0, 0, 0.15);\n",
              "      filter: drop-shadow(0px 1px 2px rgba(0, 0, 0, 0.3));\n",
              "      fill: #FFFFFF;\n",
              "    }\n",
              "  </style>\n",
              "\n",
              "      <script>\n",
              "        const buttonEl =\n",
              "          document.querySelector('#df-d8a8d81c-4a04-4413-b080-cd3688a11d61 button.colab-df-convert');\n",
              "        buttonEl.style.display =\n",
              "          google.colab.kernel.accessAllowed ? 'block' : 'none';\n",
              "\n",
              "        async function convertToInteractive(key) {\n",
              "          const element = document.querySelector('#df-d8a8d81c-4a04-4413-b080-cd3688a11d61');\n",
              "          const dataTable =\n",
              "            await google.colab.kernel.invokeFunction('convertToInteractive',\n",
              "                                                     [key], {});\n",
              "          if (!dataTable) return;\n",
              "\n",
              "          const docLinkHtml = 'Like what you see? Visit the ' +\n",
              "            '<a target=\"_blank\" href=https://colab.research.google.com/notebooks/data_table.ipynb>data table notebook</a>'\n",
              "            + ' to learn more about interactive tables.';\n",
              "          element.innerHTML = '';\n",
              "          dataTable['output_type'] = 'display_data';\n",
              "          await google.colab.output.renderOutput(dataTable, element);\n",
              "          const docLink = document.createElement('div');\n",
              "          docLink.innerHTML = docLinkHtml;\n",
              "          element.appendChild(docLink);\n",
              "        }\n",
              "      </script>\n",
              "    </div>\n",
              "  </div>\n",
              "  "
            ]
          },
          "metadata": {},
          "execution_count": 8
        }
      ]
    },
    {
      "cell_type": "code",
      "source": [
        "#Let's look at the type of each column\n",
        "df['Date'] = df['Date'].astype('string')\n",
        "df.dtypes"
      ],
      "metadata": {
        "id": "EagkqYmHBa_H",
        "outputId": "c26ffe95-d922-49bd-bd88-94eea4afb9c6",
        "colab": {
          "base_uri": "https://localhost:8080/"
        }
      },
      "execution_count": 9,
      "outputs": [
        {
          "output_type": "execute_result",
          "data": {
            "text/plain": [
              "Date       string\n",
              "Open      float64\n",
              "High      float64\n",
              "Low       float64\n",
              "Close     float64\n",
              "Volume    float64\n",
              "dtype: object"
            ]
          },
          "metadata": {},
          "execution_count": 9
        }
      ]
    },
    {
      "cell_type": "code",
      "source": [
        "#We don't need a specific time in our dataset, just need the date\n",
        "def remove_time(column):\n",
        "  temp = 0\n",
        "  for i in range(len(column)):\n",
        "    column[i] = column[i][0: 10]\n",
        "    if temp <= 10:\n",
        "      print(column[i])\n",
        "      temp += 1"
      ],
      "metadata": {
        "id": "XqxfaCMkB1M8"
      },
      "execution_count": 10,
      "outputs": []
    },
    {
      "cell_type": "code",
      "source": [
        "remove_time(df['Date'])"
      ],
      "metadata": {
        "id": "HwNXtPKeC6dS",
        "outputId": "36df8669-be73-4f27-b23b-f9a780bdfc93",
        "colab": {
          "base_uri": "https://localhost:8080/"
        }
      },
      "execution_count": 11,
      "outputs": [
        {
          "output_type": "stream",
          "name": "stdout",
          "text": [
            "2019-07-30\n",
            "2019-07-30\n",
            "2019-07-30\n",
            "2019-07-30\n",
            "2019-07-30\n",
            "2019-07-30\n",
            "2019-07-30\n",
            "2019-07-30\n",
            "2019-07-30\n",
            "2019-07-30\n",
            "2019-07-30\n"
          ]
        }
      ]
    },
    {
      "cell_type": "code",
      "source": [
        "df.head()"
      ],
      "metadata": {
        "id": "13Y9iZShCGnz",
        "outputId": "e7368fc9-5ff5-4f7b-f7ac-92fc0b72a479",
        "colab": {
          "base_uri": "https://localhost:8080/",
          "height": 206
        }
      },
      "execution_count": 12,
      "outputs": [
        {
          "output_type": "execute_result",
          "data": {
            "text/plain": [
              "         Date     Open     High      Low    Close      Volume\n",
              "0  2019-07-30  9509.07  9535.00  9503.07  9517.75  381.293856\n",
              "1  2019-07-30  9517.03  9539.00  9507.00  9532.58  258.514869\n",
              "2  2019-07-30  9533.59  9534.00  9500.00  9500.25  275.797270\n",
              "3  2019-07-30  9500.25  9514.46  9460.71  9465.25  485.218470\n",
              "4  2019-07-30  9465.25  9488.94  9430.01  9460.42  498.669626"
            ],
            "text/html": [
              "\n",
              "  <div id=\"df-95139489-9d7a-4ea9-9703-5fbba4e30ee9\">\n",
              "    <div class=\"colab-df-container\">\n",
              "      <div>\n",
              "<style scoped>\n",
              "    .dataframe tbody tr th:only-of-type {\n",
              "        vertical-align: middle;\n",
              "    }\n",
              "\n",
              "    .dataframe tbody tr th {\n",
              "        vertical-align: top;\n",
              "    }\n",
              "\n",
              "    .dataframe thead th {\n",
              "        text-align: right;\n",
              "    }\n",
              "</style>\n",
              "<table border=\"1\" class=\"dataframe\">\n",
              "  <thead>\n",
              "    <tr style=\"text-align: right;\">\n",
              "      <th></th>\n",
              "      <th>Date</th>\n",
              "      <th>Open</th>\n",
              "      <th>High</th>\n",
              "      <th>Low</th>\n",
              "      <th>Close</th>\n",
              "      <th>Volume</th>\n",
              "    </tr>\n",
              "  </thead>\n",
              "  <tbody>\n",
              "    <tr>\n",
              "      <th>0</th>\n",
              "      <td>2019-07-30</td>\n",
              "      <td>9509.07</td>\n",
              "      <td>9535.00</td>\n",
              "      <td>9503.07</td>\n",
              "      <td>9517.75</td>\n",
              "      <td>381.293856</td>\n",
              "    </tr>\n",
              "    <tr>\n",
              "      <th>1</th>\n",
              "      <td>2019-07-30</td>\n",
              "      <td>9517.03</td>\n",
              "      <td>9539.00</td>\n",
              "      <td>9507.00</td>\n",
              "      <td>9532.58</td>\n",
              "      <td>258.514869</td>\n",
              "    </tr>\n",
              "    <tr>\n",
              "      <th>2</th>\n",
              "      <td>2019-07-30</td>\n",
              "      <td>9533.59</td>\n",
              "      <td>9534.00</td>\n",
              "      <td>9500.00</td>\n",
              "      <td>9500.25</td>\n",
              "      <td>275.797270</td>\n",
              "    </tr>\n",
              "    <tr>\n",
              "      <th>3</th>\n",
              "      <td>2019-07-30</td>\n",
              "      <td>9500.25</td>\n",
              "      <td>9514.46</td>\n",
              "      <td>9460.71</td>\n",
              "      <td>9465.25</td>\n",
              "      <td>485.218470</td>\n",
              "    </tr>\n",
              "    <tr>\n",
              "      <th>4</th>\n",
              "      <td>2019-07-30</td>\n",
              "      <td>9465.25</td>\n",
              "      <td>9488.94</td>\n",
              "      <td>9430.01</td>\n",
              "      <td>9460.42</td>\n",
              "      <td>498.669626</td>\n",
              "    </tr>\n",
              "  </tbody>\n",
              "</table>\n",
              "</div>\n",
              "      <button class=\"colab-df-convert\" onclick=\"convertToInteractive('df-95139489-9d7a-4ea9-9703-5fbba4e30ee9')\"\n",
              "              title=\"Convert this dataframe to an interactive table.\"\n",
              "              style=\"display:none;\">\n",
              "        \n",
              "  <svg xmlns=\"http://www.w3.org/2000/svg\" height=\"24px\"viewBox=\"0 0 24 24\"\n",
              "       width=\"24px\">\n",
              "    <path d=\"M0 0h24v24H0V0z\" fill=\"none\"/>\n",
              "    <path d=\"M18.56 5.44l.94 2.06.94-2.06 2.06-.94-2.06-.94-.94-2.06-.94 2.06-2.06.94zm-11 1L8.5 8.5l.94-2.06 2.06-.94-2.06-.94L8.5 2.5l-.94 2.06-2.06.94zm10 10l.94 2.06.94-2.06 2.06-.94-2.06-.94-.94-2.06-.94 2.06-2.06.94z\"/><path d=\"M17.41 7.96l-1.37-1.37c-.4-.4-.92-.59-1.43-.59-.52 0-1.04.2-1.43.59L10.3 9.45l-7.72 7.72c-.78.78-.78 2.05 0 2.83L4 21.41c.39.39.9.59 1.41.59.51 0 1.02-.2 1.41-.59l7.78-7.78 2.81-2.81c.8-.78.8-2.07 0-2.86zM5.41 20L4 18.59l7.72-7.72 1.47 1.35L5.41 20z\"/>\n",
              "  </svg>\n",
              "      </button>\n",
              "      \n",
              "  <style>\n",
              "    .colab-df-container {\n",
              "      display:flex;\n",
              "      flex-wrap:wrap;\n",
              "      gap: 12px;\n",
              "    }\n",
              "\n",
              "    .colab-df-convert {\n",
              "      background-color: #E8F0FE;\n",
              "      border: none;\n",
              "      border-radius: 50%;\n",
              "      cursor: pointer;\n",
              "      display: none;\n",
              "      fill: #1967D2;\n",
              "      height: 32px;\n",
              "      padding: 0 0 0 0;\n",
              "      width: 32px;\n",
              "    }\n",
              "\n",
              "    .colab-df-convert:hover {\n",
              "      background-color: #E2EBFA;\n",
              "      box-shadow: 0px 1px 2px rgba(60, 64, 67, 0.3), 0px 1px 3px 1px rgba(60, 64, 67, 0.15);\n",
              "      fill: #174EA6;\n",
              "    }\n",
              "\n",
              "    [theme=dark] .colab-df-convert {\n",
              "      background-color: #3B4455;\n",
              "      fill: #D2E3FC;\n",
              "    }\n",
              "\n",
              "    [theme=dark] .colab-df-convert:hover {\n",
              "      background-color: #434B5C;\n",
              "      box-shadow: 0px 1px 3px 1px rgba(0, 0, 0, 0.15);\n",
              "      filter: drop-shadow(0px 1px 2px rgba(0, 0, 0, 0.3));\n",
              "      fill: #FFFFFF;\n",
              "    }\n",
              "  </style>\n",
              "\n",
              "      <script>\n",
              "        const buttonEl =\n",
              "          document.querySelector('#df-95139489-9d7a-4ea9-9703-5fbba4e30ee9 button.colab-df-convert');\n",
              "        buttonEl.style.display =\n",
              "          google.colab.kernel.accessAllowed ? 'block' : 'none';\n",
              "\n",
              "        async function convertToInteractive(key) {\n",
              "          const element = document.querySelector('#df-95139489-9d7a-4ea9-9703-5fbba4e30ee9');\n",
              "          const dataTable =\n",
              "            await google.colab.kernel.invokeFunction('convertToInteractive',\n",
              "                                                     [key], {});\n",
              "          if (!dataTable) return;\n",
              "\n",
              "          const docLinkHtml = 'Like what you see? Visit the ' +\n",
              "            '<a target=\"_blank\" href=https://colab.research.google.com/notebooks/data_table.ipynb>data table notebook</a>'\n",
              "            + ' to learn more about interactive tables.';\n",
              "          element.innerHTML = '';\n",
              "          dataTable['output_type'] = 'display_data';\n",
              "          await google.colab.output.renderOutput(dataTable, element);\n",
              "          const docLink = document.createElement('div');\n",
              "          docLink.innerHTML = docLinkHtml;\n",
              "          element.appendChild(docLink);\n",
              "        }\n",
              "      </script>\n",
              "    </div>\n",
              "  </div>\n",
              "  "
            ]
          },
          "metadata": {},
          "execution_count": 12
        }
      ]
    },
    {
      "cell_type": "code",
      "source": [
        "#Change date type to datetime64\n",
        "df['Date'] = df['Date'].astype('datetime64')"
      ],
      "metadata": {
        "id": "z3T6VIKShJ9B"
      },
      "execution_count": 13,
      "outputs": []
    },
    {
      "cell_type": "code",
      "source": [
        "# We see that there many redundant dates so we need to delele them, just keep the final price of the day.\n",
        "df = df.drop_duplicates('Date',keep='last')\n",
        "df = df.reset_index(drop = True)"
      ],
      "metadata": {
        "id": "j8Tc3I92YVu7"
      },
      "execution_count": 14,
      "outputs": []
    },
    {
      "cell_type": "markdown",
      "source": [
        "## Step 3: Handle Missings"
      ],
      "metadata": {
        "id": "8R_qd2_DD1Sn"
      }
    },
    {
      "cell_type": "code",
      "source": [
        "df.shape"
      ],
      "metadata": {
        "id": "R83coZdbVCOt",
        "outputId": "8c2e4b24-b486-4259-c72b-e3394c15ffae",
        "colab": {
          "base_uri": "https://localhost:8080/"
        }
      },
      "execution_count": 15,
      "outputs": [
        {
          "output_type": "execute_result",
          "data": {
            "text/plain": [
              "(1156, 6)"
            ]
          },
          "metadata": {},
          "execution_count": 15
        }
      ]
    },
    {
      "cell_type": "code",
      "source": [
        "df.isna().sum()"
      ],
      "metadata": {
        "id": "v9cU0xUED--O",
        "outputId": "31bdb827-4113-4ae9-f287-01f396b9e026",
        "colab": {
          "base_uri": "https://localhost:8080/"
        }
      },
      "execution_count": 16,
      "outputs": [
        {
          "output_type": "execute_result",
          "data": {
            "text/plain": [
              "Date      0\n",
              "Open      0\n",
              "High      0\n",
              "Low       0\n",
              "Close     0\n",
              "Volume    0\n",
              "dtype: int64"
            ]
          },
          "metadata": {},
          "execution_count": 16
        }
      ]
    },
    {
      "cell_type": "code",
      "source": [
        "#The dataset look fine now, let's save it for future work.\n",
        "df.to_csv('bitcoin_price.csv')"
      ],
      "metadata": {
        "id": "fMdPymt6uDbA"
      },
      "execution_count": 17,
      "outputs": []
    },
    {
      "cell_type": "markdown",
      "source": [
        "## Step 4: Quick visualization"
      ],
      "metadata": {
        "id": "9h5HSOM5EbXt"
      }
    },
    {
      "cell_type": "code",
      "source": [
        "fig = plt.figure(figsize=[20, 10]);\n",
        "plt.suptitle('Close price visualization', fontsize=22)\n",
        "\n",
        "plt.subplot(221)\n",
        "plt.plot(df['Date'], df['Close'], '-', label= 'day');\n",
        "plt.legend();\n",
        "\n",
        "plt.subplot(222)\n",
        "df['Close'].plot(kind = 'kde');\n",
        "plt.legend();"
      ],
      "metadata": {
        "id": "4ikoM_lpEwSM",
        "outputId": "4d3a62e1-570a-4095-e80a-75ce19a8f0d9",
        "colab": {
          "base_uri": "https://localhost:8080/",
          "height": 367
        }
      },
      "execution_count": 18,
      "outputs": [
        {
          "output_type": "display_data",
          "data": {
            "text/plain": [
              "<Figure size 1440x720 with 2 Axes>"
            ],
            "image/png": "[encoded data removed]"
          },
          "metadata": {
            "needs_background": "light"
          }
        }
      ]
    },
    {
      "cell_type": "code",
      "source": [
        "from statsmodels.tsa.seasonal import seasonal_decompose\n",
        "result = seasonal_decompose(df['Close'], model='multiplicative', period = 30)"
      ],
      "metadata": {
        "id": "iSBNWaNZ0qpC"
      },
      "execution_count": 19,
      "outputs": []
    },
    {
      "cell_type": "code",
      "source": [
        "fig = plt.figure()\n",
        "fig = result.plot()"
      ],
      "metadata": {
        "id": "lEyLu9HN-Pnb",
        "outputId": "60276c1b-dc72-434b-a606-e4135c91dae9",
        "colab": {
          "base_uri": "https://localhost:8080/",
          "height": 315
        }
      },
      "execution_count": 20,
      "outputs": [
        {
          "output_type": "display_data",
          "data": {
            "text/plain": [
              "<Figure size 432x288 with 0 Axes>"
            ]
          },
          "metadata": {}
        },
        {
          "output_type": "display_data",
          "data": {
            "text/plain": [
              "<Figure size 432x288 with 4 Axes>"
            ],
            "image/png": "[encoded data removed]"
          },
          "metadata": {
            "needs_background": "light"
          }
        }
      ]
    },
    {
      "cell_type": "markdown",
      "source": [
        "## Step 5: Stationarity test"
      ],
      "metadata": {
        "id": "_7r5UpbNVemN"
      }
    },
    {
      "cell_type": "code",
      "source": [
        "from statsmodels.tsa.stattools import adfuller"
      ],
      "metadata": {
        "id": "6ran6IvKVlVe"
      },
      "execution_count": 21,
      "outputs": []
    },
    {
      "cell_type": "code",
      "source": [
        "# H0 : It is not stationary\n",
        "# H1 : It is stationary\n",
        "def adfuller_test(close_price):\n",
        "  test_result = adfuller(close_price)\n",
        "  labels = ['Test Statistic', 'p_value', 'Lag', 'Number of observations']\n",
        "  for result, label in zip(test_result, labels):\n",
        "    print(label + ' : ' + str(result))\n",
        "  for key,value in test_result[4].items():\n",
        "    print(f\"critical value {key} :=  {value}\")\n",
        "  \n",
        "adfuller_test(df['Close'])"
      ],
      "metadata": {
        "id": "FdyfpT7SV6l7",
        "outputId": "593e1e15-3b95-470e-f431-7e9a85a3e1a4",
        "colab": {
          "base_uri": "https://localhost:8080/"
        }
      },
      "execution_count": 22,
      "outputs": [
        {
          "output_type": "stream",
          "name": "stdout",
          "text": [
            "Test Statistic : -1.3446889142682161\n",
            "p_value : 0.6084873556997623\n",
            "Lag : 0\n",
            "Number of observations : 1155\n",
            "critical value 1% :=  -3.4360243661274414\n",
            "critical value 5% :=  -2.8640456240825074\n",
            "critical value 10% :=  -2.568104053709638\n"
          ]
        }
      ]
    },
    {
      "cell_type": "markdown",
      "source": [
        "We can see that the p_value is much greater than 0.05 and also the test statistic is greater than all critical values so the data is non-stationary."
      ],
      "metadata": {
        "id": "1bAtuyhy7uaQ"
      }
    },
    {
      "cell_type": "code",
      "source": [
        "seasonal_difference = pd.Series()\n",
        "seasonal_difference = df['Close'] - df['Close'].shift(30)\n",
        "seasonal_difference[0:5]"
      ],
      "metadata": {
        "id": "5eN1v8tZ63VU",
        "outputId": "c30a6e3b-0816-4e0e-e5e2-c1d5d78f447f",
        "colab": {
          "base_uri": "https://localhost:8080/"
        }
      },
      "execution_count": 23,
      "outputs": [
        {
          "output_type": "stream",
          "name": "stderr",
          "text": [
            "/usr/local/lib/python3.7/dist-packages/ipykernel_launcher.py:1: DeprecationWarning: The default dtype for empty Series will be 'object' instead of 'float64' in a future version. Specify a dtype explicitly to silence this warning.\n",
            "  \"\"\"Entry point for launching an IPython kernel.\n"
          ]
        },
        {
          "output_type": "execute_result",
          "data": {
            "text/plain": [
              "0   NaN\n",
              "1   NaN\n",
              "2   NaN\n",
              "3   NaN\n",
              "4   NaN\n",
              "Name: Close, dtype: float64"
            ]
          },
          "metadata": {},
          "execution_count": 23
        }
      ]
    },
    {
      "cell_type": "code",
      "source": [
        "plt.plot(seasonal_difference)"
      ],
      "metadata": {
        "id": "xFfUUjLP7QWo",
        "outputId": "c08b464d-1e9d-43c6-a2c2-df2715ed270b",
        "colab": {
          "base_uri": "https://localhost:8080/",
          "height": 283
        }
      },
      "execution_count": 24,
      "outputs": [
        {
          "output_type": "execute_result",
          "data": {
            "text/plain": [
              "[<matplotlib.lines.Line2D at 0x7f4134ed3490>]"
            ]
          },
          "metadata": {},
          "execution_count": 24
        },
        {
          "output_type": "display_data",
          "data": {
            "text/plain": [
              "<Figure size 432x288 with 1 Axes>"
            ],
            "image/png": "[encoded data removed]"
          },
          "metadata": {
            "needs_background": "light"
          }
        }
      ]
    },
    {
      "cell_type": "code",
      "source": [
        "# Lets see the adf test result after differencing.\n",
        "adfuller_test(seasonal_difference.dropna())"
      ],
      "metadata": {
        "id": "qXqGmhbW4cpu",
        "outputId": "63f92911-6b19-4f6f-b5a5-a9c1286133e0",
        "colab": {
          "base_uri": "https://localhost:8080/"
        }
      },
      "execution_count": 26,
      "outputs": [
        {
          "output_type": "stream",
          "name": "stdout",
          "text": [
            "Test Statistic : -4.41939800190264\n",
            "p_value : 0.00027422780076472557\n",
            "Lag : 11\n",
            "Number of observations : 1114\n",
            "critical value 1% :=  -3.436233691409407\n",
            "critical value 5% :=  -2.8641379649753502\n",
            "critical value 10% :=  -2.5681532329838292\n"
          ]
        }
      ]
    },
    {
      "cell_type": "markdown",
      "source": [
        "The p_value is now less than 0.05 so we can reject the h0 and the data is now stationary"
      ],
      "metadata": {
        "id": "kRAltjIDMppB"
      }
    },
    {
      "cell_type": "code",
      "source": [],
      "metadata": {
        "id": "NfN1zaUIMfQW"
      },
      "execution_count": null,
      "outputs": []
    }
  ],
  "metadata": {
    "language_info": {
      "name": "python"
    },
    "orig_nbformat": 4,
    "colab": {
      "provenance": []
    },
    "kernelspec": {
      "name": "python3",
      "display_name": "Python 3"
    }
  },
  "nbformat": 4,
  "nbformat_minor": 0
}