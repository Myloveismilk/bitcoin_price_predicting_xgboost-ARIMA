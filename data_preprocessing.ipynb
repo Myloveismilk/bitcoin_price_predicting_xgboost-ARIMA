{
  "cells": [
    {
      "cell_type": "code",
      "source": [
        "!pip3 uninstall statsmodels"
      ],
      "metadata": {
        "id": "ZalcDHhMTIOy",
        "outputId": "38738c1a-95a8-4175-d74e-8cd08014b2ae",
        "colab": {
          "base_uri": "https://localhost:8080/"
        }
      },
      "execution_count": 2,
      "outputs": [
        {
          "output_type": "stream",
          "name": "stdout",
          "text": [
            "Found existing installation: statsmodels 0.12.2\n",
            "Uninstalling statsmodels-0.12.2:\n",
            "  Would remove:\n",
            "    /usr/local/lib/python3.7/dist-packages/statsmodels-0.12.2.dist-info/*\n",
            "    /usr/local/lib/python3.7/dist-packages/statsmodels/*\n",
            "Proceed (y/n)? y\n",
            "  Successfully uninstalled statsmodels-0.12.2\n"
          ]
        }
      ]
    },
    {
      "cell_type": "code",
      "source": [
        "!pip3 install numpy scipy patsy pandas"
      ],
      "metadata": {
        "id": "0y9S-hZKTVN5",
        "outputId": "189acfaf-5849-42b9-e11d-0b4d821a5005",
        "colab": {
          "base_uri": "https://localhost:8080/"
        }
      },
      "execution_count": 3,
      "outputs": [
        {
          "output_type": "stream",
          "name": "stdout",
          "text": [
            "Looking in indexes: https://pypi.org/simple, https://us-python.pkg.dev/colab-wheels/public/simple/\n",
            "Requirement already satisfied: numpy in /usr/local/lib/python3.7/dist-packages (1.21.6)\n",
            "Requirement already satisfied: scipy in /usr/local/lib/python3.7/dist-packages (1.7.3)\n",
            "Requirement already satisfied: patsy in /usr/local/lib/python3.7/dist-packages (0.5.3)\n",
            "Requirement already satisfied: pandas in /usr/local/lib/python3.7/dist-packages (1.3.5)\n",
            "Requirement already satisfied: six in /usr/local/lib/python3.7/dist-packages (from patsy) (1.15.0)\n",
            "Requirement already satisfied: python-dateutil>=2.7.3 in /usr/local/lib/python3.7/dist-packages (from pandas) (2.8.2)\n",
            "Requirement already satisfied: pytz>=2017.3 in /usr/local/lib/python3.7/dist-packages (from pandas) (2022.5)\n"
          ]
        }
      ]
    },
    {
      "cell_type": "code",
      "source": [
        "!pip3 install statsmodels"
      ],
      "metadata": {
        "id": "kKTOtHA9Tay2",
        "outputId": "9e63db53-5ad5-4b28-913c-0bb72e11015e",
        "colab": {
          "base_uri": "https://localhost:8080/"
        }
      },
      "execution_count": 4,
      "outputs": [
        {
          "output_type": "stream",
          "name": "stdout",
          "text": [
            "Looking in indexes: https://pypi.org/simple, https://us-python.pkg.dev/colab-wheels/public/simple/\n",
            "Collecting statsmodels\n",
            "  Downloading statsmodels-0.13.2-cp37-cp37m-manylinux_2_17_x86_64.manylinux2014_x86_64.whl (9.8 MB)\n",
            "\u001b[K     |████████████████████████████████| 9.8 MB 4.0 MB/s \n",
            "\u001b[?25hRequirement already satisfied: numpy>=1.17 in /usr/local/lib/python3.7/dist-packages (from statsmodels) (1.21.6)\n",
            "Requirement already satisfied: packaging>=21.3 in /usr/local/lib/python3.7/dist-packages (from statsmodels) (21.3)\n",
            "Requirement already satisfied: patsy>=0.5.2 in /usr/local/lib/python3.7/dist-packages (from statsmodels) (0.5.3)\n",
            "Requirement already satisfied: scipy>=1.3 in /usr/local/lib/python3.7/dist-packages (from statsmodels) (1.7.3)\n",
            "Requirement already satisfied: pandas>=0.25 in /usr/local/lib/python3.7/dist-packages (from statsmodels) (1.3.5)\n",
            "Requirement already satisfied: pyparsing!=3.0.5,>=2.0.2 in /usr/local/lib/python3.7/dist-packages (from packaging>=21.3->statsmodels) (3.0.9)\n",
            "Requirement already satisfied: pytz>=2017.3 in /usr/local/lib/python3.7/dist-packages (from pandas>=0.25->statsmodels) (2022.5)\n",
            "Requirement already satisfied: python-dateutil>=2.7.3 in /usr/local/lib/python3.7/dist-packages (from pandas>=0.25->statsmodels) (2.8.2)\n",
            "Requirement already satisfied: six in /usr/local/lib/python3.7/dist-packages (from patsy>=0.5.2->statsmodels) (1.15.0)\n",
            "Installing collected packages: statsmodels\n",
            "Successfully installed statsmodels-0.13.2\n"
          ]
        }
      ]
    },
    {
      "cell_type": "code",
      "source": [
        "!pip install pmdarima"
      ],
      "metadata": {
        "id": "2h87uAFwS1A2",
        "outputId": "71569450-d1e0-44fe-d673-55c5ce063b44",
        "colab": {
          "base_uri": "https://localhost:8080/"
        }
      },
      "execution_count": 5,
      "outputs": [
        {
          "output_type": "stream",
          "name": "stdout",
          "text": [
            "Looking in indexes: https://pypi.org/simple, https://us-python.pkg.dev/colab-wheels/public/simple/\n",
            "Collecting pmdarima\n",
            "  Downloading pmdarima-2.0.1-cp37-cp37m-manylinux_2_17_x86_64.manylinux2014_x86_64.manylinux_2_28_x86_64.whl (1.8 MB)\n",
            "\u001b[K     |████████████████████████████████| 1.8 MB 4.3 MB/s \n",
            "\u001b[?25hRequirement already satisfied: Cython!=0.29.18,!=0.29.31,>=0.29 in /usr/local/lib/python3.7/dist-packages (from pmdarima) (0.29.32)\n",
            "Requirement already satisfied: pandas>=0.19 in /usr/local/lib/python3.7/dist-packages (from pmdarima) (1.3.5)\n",
            "Requirement already satisfied: urllib3 in /usr/local/lib/python3.7/dist-packages (from pmdarima) (1.24.3)\n",
            "Requirement already satisfied: numpy>=1.21 in /usr/local/lib/python3.7/dist-packages (from pmdarima) (1.21.6)\n",
            "Requirement already satisfied: statsmodels>=0.13.2 in /usr/local/lib/python3.7/dist-packages (from pmdarima) (0.13.2)\n",
            "Requirement already satisfied: joblib>=0.11 in /usr/local/lib/python3.7/dist-packages (from pmdarima) (1.2.0)\n",
            "Requirement already satisfied: scikit-learn>=0.22 in /usr/local/lib/python3.7/dist-packages (from pmdarima) (1.0.2)\n",
            "Requirement already satisfied: scipy>=1.3.2 in /usr/local/lib/python3.7/dist-packages (from pmdarima) (1.7.3)\n",
            "Requirement already satisfied: setuptools!=50.0.0,>=38.6.0 in /usr/local/lib/python3.7/dist-packages (from pmdarima) (57.4.0)\n",
            "Requirement already satisfied: python-dateutil>=2.7.3 in /usr/local/lib/python3.7/dist-packages (from pandas>=0.19->pmdarima) (2.8.2)\n",
            "Requirement already satisfied: pytz>=2017.3 in /usr/local/lib/python3.7/dist-packages (from pandas>=0.19->pmdarima) (2022.5)\n",
            "Requirement already satisfied: six>=1.5 in /usr/local/lib/python3.7/dist-packages (from python-dateutil>=2.7.3->pandas>=0.19->pmdarima) (1.15.0)\n",
            "Requirement already satisfied: threadpoolctl>=2.0.0 in /usr/local/lib/python3.7/dist-packages (from scikit-learn>=0.22->pmdarima) (3.1.0)\n",
            "Requirement already satisfied: patsy>=0.5.2 in /usr/local/lib/python3.7/dist-packages (from statsmodels>=0.13.2->pmdarima) (0.5.3)\n",
            "Requirement already satisfied: packaging>=21.3 in /usr/local/lib/python3.7/dist-packages (from statsmodels>=0.13.2->pmdarima) (21.3)\n",
            "Requirement already satisfied: pyparsing!=3.0.5,>=2.0.2 in /usr/local/lib/python3.7/dist-packages (from packaging>=21.3->statsmodels>=0.13.2->pmdarima) (3.0.9)\n",
            "Installing collected packages: pmdarima\n",
            "Successfully installed pmdarima-2.0.1\n"
          ]
        }
      ]
    },
    {
      "cell_type": "code",
      "execution_count": 6,
      "metadata": {
        "id": "x34rDj26hj7r"
      },
      "outputs": [],
      "source": [
        "import pandas as pd\n",
        "import zipfile\n",
        "import glob\n",
        "import numpy as np\n",
        "import seaborn as sn\n",
        "import matplotlib.pyplot as plt\n",
        "from statsmodels.graphics.tsaplots import plot_pacf, plot_acf\n",
        "from statsmodels.tsa.statespace.sarimax import SARIMAX\n",
        "from statsmodels.tsa.stattools import pacf"
      ]
    },
    {
      "cell_type": "markdown",
      "source": [],
      "metadata": {
        "id": "gmHGqI3z7QG5"
      }
    },
    {
      "cell_type": "markdown",
      "source": [
        "## Step 1: Read multiple csv files zipped in one file and concatenate them."
      ],
      "metadata": {
        "id": "DEjZaq5nB7gs"
      }
    },
    {
      "cell_type": "code",
      "source": [
        "#Read the zip file that contains multiple csv file\n",
        "from zipfile import ZipFile\n",
        "from google.colab import files\n",
        "!wget 'https://raw.githubusercontent.com/Myloveismilk/vn_stock_price/main/data/archive.zip'\n",
        "url = '/content/archive.zip'\n",
        "df = pd.concat(\n",
        "    [pd.read_csv(ZipFile(url).open(i)) for i in ZipFile(url).namelist()],\n",
        "    ignore_index=True\n",
        ")"
      ],
      "metadata": {
        "id": "9Dm_NoAIic_2",
        "colab": {
          "base_uri": "https://localhost:8080/"
        },
        "outputId": "e0c1b0bd-4161-48ef-f3f9-53c946e18abc"
      },
      "execution_count": 7,
      "outputs": [
        {
          "output_type": "stream",
          "name": "stdout",
          "text": [
            "--2022-10-27 14:36:10--  https://raw.githubusercontent.com/Myloveismilk/vn_stock_price/main/data/archive.zip\n",
            "Resolving raw.githubusercontent.com (raw.githubusercontent.com)... 185.199.109.133, 185.199.110.133, 185.199.108.133, ...\n",
            "Connecting to raw.githubusercontent.com (raw.githubusercontent.com)|185.199.109.133|:443... connected.\n",
            "HTTP request sent, awaiting response... 200 OK\n",
            "Length: 3066402 (2.9M) [application/zip]\n",
            "Saving to: ‘archive.zip’\n",
            "\n",
            "archive.zip         100%[===================>]   2.92M  --.-KB/s    in 0.08s   \n",
            "\n",
            "2022-10-27 14:36:10 (35.9 MB/s) - ‘archive.zip’ saved [3066402/3066402]\n",
            "\n"
          ]
        }
      ]
    },
    {
      "cell_type": "code",
      "source": [
        "#See the first 5 rows of the dataset\n",
        "df.head()"
      ],
      "metadata": {
        "id": "QpERCIM7AAJl",
        "outputId": "f3edc054-1c49-40ac-dfa5-61894e1a85dd",
        "colab": {
          "base_uri": "https://localhost:8080/",
          "height": 206
        }
      },
      "execution_count": 8,
      "outputs": [
        {
          "output_type": "execute_result",
          "data": {
            "text/plain": [
              "                       Open Time     Open     High      Low    Close  \\\n",
              "0  2019-07-30 00:00:00.000000000  9509.07  9535.00  9503.07  9517.75   \n",
              "1  2019-07-30 00:30:00.000000000  9517.03  9539.00  9507.00  9532.58   \n",
              "2  2019-07-30 01:00:00.000000000  9533.59  9534.00  9500.00  9500.25   \n",
              "3  2019-07-30 01:30:00.000000000  9500.25  9514.46  9460.71  9465.25   \n",
              "4  2019-07-30 02:00:00.000000000  9465.25  9488.94  9430.01  9460.42   \n",
              "\n",
              "       Volume                     Close Time  Quote Asset Volume  \\\n",
              "0  381.293856  2019-07-30 00:29:59.999000064        3.631211e+06   \n",
              "1  258.514869  2019-07-30 00:59:59.999000064        2.462134e+06   \n",
              "2  275.797270  2019-07-30 01:29:59.999000064        2.624322e+06   \n",
              "3  485.218470  2019-07-30 01:59:59.999000064        4.604004e+06   \n",
              "4  498.669626  2019-07-30 02:29:59.999000064        4.717269e+06   \n",
              "\n",
              "   Number of Trades  TB Base Volume  TB Quote Volume  Ignore  \n",
              "0              3492      216.528742     2.062189e+06       0  \n",
              "1              3133      141.887550     1.351182e+06       0  \n",
              "2              3583      114.238457     1.087402e+06       0  \n",
              "3              5330      225.681291     2.141459e+06       0  \n",
              "4              6197      228.535910     2.162163e+06       0  "
            ],
            "text/html": [
              "\n",
              "  <div id=\"df-775fb301-4219-432f-96dc-3daac41183ee\">\n",
              "    <div class=\"colab-df-container\">\n",
              "      <div>\n",
              "<style scoped>\n",
              "    .dataframe tbody tr th:only-of-type {\n",
              "        vertical-align: middle;\n",
              "    }\n",
              "\n",
              "    .dataframe tbody tr th {\n",
              "        vertical-align: top;\n",
              "    }\n",
              "\n",
              "    .dataframe thead th {\n",
              "        text-align: right;\n",
              "    }\n",
              "</style>\n",
              "<table border=\"1\" class=\"dataframe\">\n",
              "  <thead>\n",
              "    <tr style=\"text-align: right;\">\n",
              "      <th></th>\n",
              "      <th>Open Time</th>\n",
              "      <th>Open</th>\n",
              "      <th>High</th>\n",
              "      <th>Low</th>\n",
              "      <th>Close</th>\n",
              "      <th>Volume</th>\n",
              "      <th>Close Time</th>\n",
              "      <th>Quote Asset Volume</th>\n",
              "      <th>Number of Trades</th>\n",
              "      <th>TB Base Volume</th>\n",
              "      <th>TB Quote Volume</th>\n",
              "      <th>Ignore</th>\n",
              "    </tr>\n",
              "  </thead>\n",
              "  <tbody>\n",
              "    <tr>\n",
              "      <th>0</th>\n",
              "      <td>2019-07-30 00:00:00.000000000</td>\n",
              "      <td>9509.07</td>\n",
              "      <td>9535.00</td>\n",
              "      <td>9503.07</td>\n",
              "      <td>9517.75</td>\n",
              "      <td>381.293856</td>\n",
              "      <td>2019-07-30 00:29:59.999000064</td>\n",
              "      <td>3.631211e+06</td>\n",
              "      <td>3492</td>\n",
              "      <td>216.528742</td>\n",
              "      <td>2.062189e+06</td>\n",
              "      <td>0</td>\n",
              "    </tr>\n",
              "    <tr>\n",
              "      <th>1</th>\n",
              "      <td>2019-07-30 00:30:00.000000000</td>\n",
              "      <td>9517.03</td>\n",
              "      <td>9539.00</td>\n",
              "      <td>9507.00</td>\n",
              "      <td>9532.58</td>\n",
              "      <td>258.514869</td>\n",
              "      <td>2019-07-30 00:59:59.999000064</td>\n",
              "      <td>2.462134e+06</td>\n",
              "      <td>3133</td>\n",
              "      <td>141.887550</td>\n",
              "      <td>1.351182e+06</td>\n",
              "      <td>0</td>\n",
              "    </tr>\n",
              "    <tr>\n",
              "      <th>2</th>\n",
              "      <td>2019-07-30 01:00:00.000000000</td>\n",
              "      <td>9533.59</td>\n",
              "      <td>9534.00</td>\n",
              "      <td>9500.00</td>\n",
              "      <td>9500.25</td>\n",
              "      <td>275.797270</td>\n",
              "      <td>2019-07-30 01:29:59.999000064</td>\n",
              "      <td>2.624322e+06</td>\n",
              "      <td>3583</td>\n",
              "      <td>114.238457</td>\n",
              "      <td>1.087402e+06</td>\n",
              "      <td>0</td>\n",
              "    </tr>\n",
              "    <tr>\n",
              "      <th>3</th>\n",
              "      <td>2019-07-30 01:30:00.000000000</td>\n",
              "      <td>9500.25</td>\n",
              "      <td>9514.46</td>\n",
              "      <td>9460.71</td>\n",
              "      <td>9465.25</td>\n",
              "      <td>485.218470</td>\n",
              "      <td>2019-07-30 01:59:59.999000064</td>\n",
              "      <td>4.604004e+06</td>\n",
              "      <td>5330</td>\n",
              "      <td>225.681291</td>\n",
              "      <td>2.141459e+06</td>\n",
              "      <td>0</td>\n",
              "    </tr>\n",
              "    <tr>\n",
              "      <th>4</th>\n",
              "      <td>2019-07-30 02:00:00.000000000</td>\n",
              "      <td>9465.25</td>\n",
              "      <td>9488.94</td>\n",
              "      <td>9430.01</td>\n",
              "      <td>9460.42</td>\n",
              "      <td>498.669626</td>\n",
              "      <td>2019-07-30 02:29:59.999000064</td>\n",
              "      <td>4.717269e+06</td>\n",
              "      <td>6197</td>\n",
              "      <td>228.535910</td>\n",
              "      <td>2.162163e+06</td>\n",
              "      <td>0</td>\n",
              "    </tr>\n",
              "  </tbody>\n",
              "</table>\n",
              "</div>\n",
              "      <button class=\"colab-df-convert\" onclick=\"convertToInteractive('df-775fb301-4219-432f-96dc-3daac41183ee')\"\n",
              "              title=\"Convert this dataframe to an interactive table.\"\n",
              "              style=\"display:none;\">\n",
              "        \n",
              "  <svg xmlns=\"http://www.w3.org/2000/svg\" height=\"24px\"viewBox=\"0 0 24 24\"\n",
              "       width=\"24px\">\n",
              "    <path d=\"M0 0h24v24H0V0z\" fill=\"none\"/>\n",
              "    <path d=\"M18.56 5.44l.94 2.06.94-2.06 2.06-.94-2.06-.94-.94-2.06-.94 2.06-2.06.94zm-11 1L8.5 8.5l.94-2.06 2.06-.94-2.06-.94L8.5 2.5l-.94 2.06-2.06.94zm10 10l.94 2.06.94-2.06 2.06-.94-2.06-.94-.94-2.06-.94 2.06-2.06.94z\"/><path d=\"M17.41 7.96l-1.37-1.37c-.4-.4-.92-.59-1.43-.59-.52 0-1.04.2-1.43.59L10.3 9.45l-7.72 7.72c-.78.78-.78 2.05 0 2.83L4 21.41c.39.39.9.59 1.41.59.51 0 1.02-.2 1.41-.59l7.78-7.78 2.81-2.81c.8-.78.8-2.07 0-2.86zM5.41 20L4 18.59l7.72-7.72 1.47 1.35L5.41 20z\"/>\n",
              "  </svg>\n",
              "      </button>\n",
              "      \n",
              "  <style>\n",
              "    .colab-df-container {\n",
              "      display:flex;\n",
              "      flex-wrap:wrap;\n",
              "      gap: 12px;\n",
              "    }\n",
              "\n",
              "    .colab-df-convert {\n",
              "      background-color: #E8F0FE;\n",
              "      border: none;\n",
              "      border-radius: 50%;\n",
              "      cursor: pointer;\n",
              "      display: none;\n",
              "      fill: #1967D2;\n",
              "      height: 32px;\n",
              "      padding: 0 0 0 0;\n",
              "      width: 32px;\n",
              "    }\n",
              "\n",
              "    .colab-df-convert:hover {\n",
              "      background-color: #E2EBFA;\n",
              "      box-shadow: 0px 1px 2px rgba(60, 64, 67, 0.3), 0px 1px 3px 1px rgba(60, 64, 67, 0.15);\n",
              "      fill: #174EA6;\n",
              "    }\n",
              "\n",
              "    [theme=dark] .colab-df-convert {\n",
              "      background-color: #3B4455;\n",
              "      fill: #D2E3FC;\n",
              "    }\n",
              "\n",
              "    [theme=dark] .colab-df-convert:hover {\n",
              "      background-color: #434B5C;\n",
              "      box-shadow: 0px 1px 3px 1px rgba(0, 0, 0, 0.15);\n",
              "      filter: drop-shadow(0px 1px 2px rgba(0, 0, 0, 0.3));\n",
              "      fill: #FFFFFF;\n",
              "    }\n",
              "  </style>\n",
              "\n",
              "      <script>\n",
              "        const buttonEl =\n",
              "          document.querySelector('#df-775fb301-4219-432f-96dc-3daac41183ee button.colab-df-convert');\n",
              "        buttonEl.style.display =\n",
              "          google.colab.kernel.accessAllowed ? 'block' : 'none';\n",
              "\n",
              "        async function convertToInteractive(key) {\n",
              "          const element = document.querySelector('#df-775fb301-4219-432f-96dc-3daac41183ee');\n",
              "          const dataTable =\n",
              "            await google.colab.kernel.invokeFunction('convertToInteractive',\n",
              "                                                     [key], {});\n",
              "          if (!dataTable) return;\n",
              "\n",
              "          const docLinkHtml = 'Like what you see? Visit the ' +\n",
              "            '<a target=\"_blank\" href=https://colab.research.google.com/notebooks/data_table.ipynb>data table notebook</a>'\n",
              "            + ' to learn more about interactive tables.';\n",
              "          element.innerHTML = '';\n",
              "          dataTable['output_type'] = 'display_data';\n",
              "          await google.colab.output.renderOutput(dataTable, element);\n",
              "          const docLink = document.createElement('div');\n",
              "          docLink.innerHTML = docLinkHtml;\n",
              "          element.appendChild(docLink);\n",
              "        }\n",
              "      </script>\n",
              "    </div>\n",
              "  </div>\n",
              "  "
            ]
          },
          "metadata": {},
          "execution_count": 8
        }
      ]
    },
    {
      "cell_type": "markdown",
      "source": [
        "## Step 2: Drop, rename some columns and format their types."
      ],
      "metadata": {
        "id": "sViQbCZTCyPk"
      }
    },
    {
      "cell_type": "code",
      "source": [
        "df.columns"
      ],
      "metadata": {
        "id": "26m_RjnS_75Y",
        "outputId": "abadd5f8-6506-4cb8-ebbb-ddb2d39b7ff6",
        "colab": {
          "base_uri": "https://localhost:8080/"
        }
      },
      "execution_count": 9,
      "outputs": [
        {
          "output_type": "execute_result",
          "data": {
            "text/plain": [
              "Index(['Open Time', 'Open', 'High', 'Low', 'Close', 'Volume', 'Close Time',\n",
              "       'Quote Asset Volume', 'Number of Trades', 'TB Base Volume',\n",
              "       'TB Quote Volume', 'Ignore'],\n",
              "      dtype='object')"
            ]
          },
          "metadata": {},
          "execution_count": 9
        }
      ]
    },
    {
      "cell_type": "code",
      "source": [
        "#Some columns isn't necessary for predicting the bitcoin price, so let's remove it.\n",
        "df = df.drop(columns= ['Close Time','Quote Asset Volume', 'Number of Trades', 'TB Base Volume','TB Quote Volume', 'Ignore'])"
      ],
      "metadata": {
        "id": "SiIABK-HAS1K"
      },
      "execution_count": 10,
      "outputs": []
    },
    {
      "cell_type": "code",
      "source": [
        "df.columns"
      ],
      "metadata": {
        "id": "VqV41OLfBBQ4",
        "outputId": "76bc2815-23e6-46c9-c82e-40c88339c3fc",
        "colab": {
          "base_uri": "https://localhost:8080/"
        }
      },
      "execution_count": 11,
      "outputs": [
        {
          "output_type": "execute_result",
          "data": {
            "text/plain": [
              "Index(['Open Time', 'Open', 'High', 'Low', 'Close', 'Volume'], dtype='object')"
            ]
          },
          "metadata": {},
          "execution_count": 11
        }
      ]
    },
    {
      "cell_type": "code",
      "source": [
        "#The names of all columns seem to be not in the right format, so let's change them\n",
        "df = df.rename(columns= {'Open Time':'Date'})"
      ],
      "metadata": {
        "id": "MotY8DHxAju2"
      },
      "execution_count": 12,
      "outputs": []
    },
    {
      "cell_type": "code",
      "source": [
        "df.tail()"
      ],
      "metadata": {
        "id": "wKjzIqAKBXpY",
        "outputId": "31645f2d-a9af-47aa-e9a9-9c4f1f6a807a",
        "colab": {
          "base_uri": "https://localhost:8080/",
          "height": 206
        }
      },
      "execution_count": 13,
      "outputs": [
        {
          "output_type": "execute_result",
          "data": {
            "text/plain": [
              "                                Date      Open      High       Low     Close  \\\n",
              "55377  2022-09-27 16:30:00.000000000  19492.21  19499.25  18918.77  19110.79   \n",
              "55378  2022-09-27 17:00:00.000000000  19110.79  19115.89  18863.70  18951.06   \n",
              "55379  2022-09-27 17:30:00.000000000  18951.06  19036.61  18863.01  18957.20   \n",
              "55380  2022-09-27 18:00:00.000000000  18957.95  18997.46  18816.32  18951.87   \n",
              "55381  2022-09-27 18:30:00.000000000  18950.71  19159.83  18924.64  19103.23   \n",
              "\n",
              "            Volume  \n",
              "55377  26161.20797  \n",
              "55378  18934.52059  \n",
              "55379  16295.64670  \n",
              "55380  15640.01557  \n",
              "55381  15654.96482  "
            ],
            "text/html": [
              "\n",
              "  <div id=\"df-201d8ad1-25fa-4af6-a70c-c97f83361f51\">\n",
              "    <div class=\"colab-df-container\">\n",
              "      <div>\n",
              "<style scoped>\n",
              "    .dataframe tbody tr th:only-of-type {\n",
              "        vertical-align: middle;\n",
              "    }\n",
              "\n",
              "    .dataframe tbody tr th {\n",
              "        vertical-align: top;\n",
              "    }\n",
              "\n",
              "    .dataframe thead th {\n",
              "        text-align: right;\n",
              "    }\n",
              "</style>\n",
              "<table border=\"1\" class=\"dataframe\">\n",
              "  <thead>\n",
              "    <tr style=\"text-align: right;\">\n",
              "      <th></th>\n",
              "      <th>Date</th>\n",
              "      <th>Open</th>\n",
              "      <th>High</th>\n",
              "      <th>Low</th>\n",
              "      <th>Close</th>\n",
              "      <th>Volume</th>\n",
              "    </tr>\n",
              "  </thead>\n",
              "  <tbody>\n",
              "    <tr>\n",
              "      <th>55377</th>\n",
              "      <td>2022-09-27 16:30:00.000000000</td>\n",
              "      <td>19492.21</td>\n",
              "      <td>19499.25</td>\n",
              "      <td>18918.77</td>\n",
              "      <td>19110.79</td>\n",
              "      <td>26161.20797</td>\n",
              "    </tr>\n",
              "    <tr>\n",
              "      <th>55378</th>\n",
              "      <td>2022-09-27 17:00:00.000000000</td>\n",
              "      <td>19110.79</td>\n",
              "      <td>19115.89</td>\n",
              "      <td>18863.70</td>\n",
              "      <td>18951.06</td>\n",
              "      <td>18934.52059</td>\n",
              "    </tr>\n",
              "    <tr>\n",
              "      <th>55379</th>\n",
              "      <td>2022-09-27 17:30:00.000000000</td>\n",
              "      <td>18951.06</td>\n",
              "      <td>19036.61</td>\n",
              "      <td>18863.01</td>\n",
              "      <td>18957.20</td>\n",
              "      <td>16295.64670</td>\n",
              "    </tr>\n",
              "    <tr>\n",
              "      <th>55380</th>\n",
              "      <td>2022-09-27 18:00:00.000000000</td>\n",
              "      <td>18957.95</td>\n",
              "      <td>18997.46</td>\n",
              "      <td>18816.32</td>\n",
              "      <td>18951.87</td>\n",
              "      <td>15640.01557</td>\n",
              "    </tr>\n",
              "    <tr>\n",
              "      <th>55381</th>\n",
              "      <td>2022-09-27 18:30:00.000000000</td>\n",
              "      <td>18950.71</td>\n",
              "      <td>19159.83</td>\n",
              "      <td>18924.64</td>\n",
              "      <td>19103.23</td>\n",
              "      <td>15654.96482</td>\n",
              "    </tr>\n",
              "  </tbody>\n",
              "</table>\n",
              "</div>\n",
              "      <button class=\"colab-df-convert\" onclick=\"convertToInteractive('df-201d8ad1-25fa-4af6-a70c-c97f83361f51')\"\n",
              "              title=\"Convert this dataframe to an interactive table.\"\n",
              "              style=\"display:none;\">\n",
              "        \n",
              "  <svg xmlns=\"http://www.w3.org/2000/svg\" height=\"24px\"viewBox=\"0 0 24 24\"\n",
              "       width=\"24px\">\n",
              "    <path d=\"M0 0h24v24H0V0z\" fill=\"none\"/>\n",
              "    <path d=\"M18.56 5.44l.94 2.06.94-2.06 2.06-.94-2.06-.94-.94-2.06-.94 2.06-2.06.94zm-11 1L8.5 8.5l.94-2.06 2.06-.94-2.06-.94L8.5 2.5l-.94 2.06-2.06.94zm10 10l.94 2.06.94-2.06 2.06-.94-2.06-.94-.94-2.06-.94 2.06-2.06.94z\"/><path d=\"M17.41 7.96l-1.37-1.37c-.4-.4-.92-.59-1.43-.59-.52 0-1.04.2-1.43.59L10.3 9.45l-7.72 7.72c-.78.78-.78 2.05 0 2.83L4 21.41c.39.39.9.59 1.41.59.51 0 1.02-.2 1.41-.59l7.78-7.78 2.81-2.81c.8-.78.8-2.07 0-2.86zM5.41 20L4 18.59l7.72-7.72 1.47 1.35L5.41 20z\"/>\n",
              "  </svg>\n",
              "      </button>\n",
              "      \n",
              "  <style>\n",
              "    .colab-df-container {\n",
              "      display:flex;\n",
              "      flex-wrap:wrap;\n",
              "      gap: 12px;\n",
              "    }\n",
              "\n",
              "    .colab-df-convert {\n",
              "      background-color: #E8F0FE;\n",
              "      border: none;\n",
              "      border-radius: 50%;\n",
              "      cursor: pointer;\n",
              "      display: none;\n",
              "      fill: #1967D2;\n",
              "      height: 32px;\n",
              "      padding: 0 0 0 0;\n",
              "      width: 32px;\n",
              "    }\n",
              "\n",
              "    .colab-df-convert:hover {\n",
              "      background-color: #E2EBFA;\n",
              "      box-shadow: 0px 1px 2px rgba(60, 64, 67, 0.3), 0px 1px 3px 1px rgba(60, 64, 67, 0.15);\n",
              "      fill: #174EA6;\n",
              "    }\n",
              "\n",
              "    [theme=dark] .colab-df-convert {\n",
              "      background-color: #3B4455;\n",
              "      fill: #D2E3FC;\n",
              "    }\n",
              "\n",
              "    [theme=dark] .colab-df-convert:hover {\n",
              "      background-color: #434B5C;\n",
              "      box-shadow: 0px 1px 3px 1px rgba(0, 0, 0, 0.15);\n",
              "      filter: drop-shadow(0px 1px 2px rgba(0, 0, 0, 0.3));\n",
              "      fill: #FFFFFF;\n",
              "    }\n",
              "  </style>\n",
              "\n",
              "      <script>\n",
              "        const buttonEl =\n",
              "          document.querySelector('#df-201d8ad1-25fa-4af6-a70c-c97f83361f51 button.colab-df-convert');\n",
              "        buttonEl.style.display =\n",
              "          google.colab.kernel.accessAllowed ? 'block' : 'none';\n",
              "\n",
              "        async function convertToInteractive(key) {\n",
              "          const element = document.querySelector('#df-201d8ad1-25fa-4af6-a70c-c97f83361f51');\n",
              "          const dataTable =\n",
              "            await google.colab.kernel.invokeFunction('convertToInteractive',\n",
              "                                                     [key], {});\n",
              "          if (!dataTable) return;\n",
              "\n",
              "          const docLinkHtml = 'Like what you see? Visit the ' +\n",
              "            '<a target=\"_blank\" href=https://colab.research.google.com/notebooks/data_table.ipynb>data table notebook</a>'\n",
              "            + ' to learn more about interactive tables.';\n",
              "          element.innerHTML = '';\n",
              "          dataTable['output_type'] = 'display_data';\n",
              "          await google.colab.output.renderOutput(dataTable, element);\n",
              "          const docLink = document.createElement('div');\n",
              "          docLink.innerHTML = docLinkHtml;\n",
              "          element.appendChild(docLink);\n",
              "        }\n",
              "      </script>\n",
              "    </div>\n",
              "  </div>\n",
              "  "
            ]
          },
          "metadata": {},
          "execution_count": 13
        }
      ]
    },
    {
      "cell_type": "code",
      "source": [
        "#Let's look at the type of each column\n",
        "df['Date'] = df['Date'].astype('string')\n",
        "df.dtypes"
      ],
      "metadata": {
        "id": "EagkqYmHBa_H",
        "outputId": "5122715e-6cde-472d-9eb5-9f7af35d3ac3",
        "colab": {
          "base_uri": "https://localhost:8080/"
        }
      },
      "execution_count": 14,
      "outputs": [
        {
          "output_type": "execute_result",
          "data": {
            "text/plain": [
              "Date       string\n",
              "Open      float64\n",
              "High      float64\n",
              "Low       float64\n",
              "Close     float64\n",
              "Volume    float64\n",
              "dtype: object"
            ]
          },
          "metadata": {},
          "execution_count": 14
        }
      ]
    },
    {
      "cell_type": "code",
      "source": [
        "#We don't need a specific time in our dataset, just need the date\n",
        "def remove_time(column):\n",
        "  temp = 0\n",
        "  for i in range(len(column)):\n",
        "    column[i] = column[i][0: 10]\n",
        "    if temp <= 10:\n",
        "      print(column[i])\n",
        "      temp += 1"
      ],
      "metadata": {
        "id": "XqxfaCMkB1M8"
      },
      "execution_count": 15,
      "outputs": []
    },
    {
      "cell_type": "code",
      "source": [
        "remove_time(df['Date'])"
      ],
      "metadata": {
        "id": "HwNXtPKeC6dS",
        "outputId": "477ef6b0-d1b2-43be-833a-1802a77fe643",
        "colab": {
          "base_uri": "https://localhost:8080/"
        }
      },
      "execution_count": 16,
      "outputs": [
        {
          "output_type": "stream",
          "name": "stdout",
          "text": [
            "2019-07-30\n",
            "2019-07-30\n",
            "2019-07-30\n",
            "2019-07-30\n",
            "2019-07-30\n",
            "2019-07-30\n",
            "2019-07-30\n",
            "2019-07-30\n",
            "2019-07-30\n",
            "2019-07-30\n",
            "2019-07-30\n"
          ]
        }
      ]
    },
    {
      "cell_type": "code",
      "source": [
        "#Change date type to datetime64\n",
        "df['Date'] = df['Date'].astype('datetime64')"
      ],
      "metadata": {
        "id": "z3T6VIKShJ9B"
      },
      "execution_count": 17,
      "outputs": []
    },
    {
      "cell_type": "code",
      "source": [
        "#Keep only roundly a year's values, drop the redundant.\n",
        "remove_part = df[df['Date'] <= '2021-09-26']\n",
        "df = df.drop(remove_part.index, axis = 0)"
      ],
      "metadata": {
        "id": "OKr88_W1AMlf"
      },
      "execution_count": 18,
      "outputs": []
    },
    {
      "cell_type": "code",
      "source": [
        "# We see that there many redundant dates so we need to delele them, just keep the final price of the day.\n",
        "df = df.drop_duplicates('Date',keep='last')\n",
        "df.set_index('Date', inplace= True)"
      ],
      "metadata": {
        "id": "j8Tc3I92YVu7"
      },
      "execution_count": 19,
      "outputs": []
    },
    {
      "cell_type": "code",
      "source": [
        "df.head()"
      ],
      "metadata": {
        "id": "13Y9iZShCGnz",
        "outputId": "f4caf5cc-9401-4115-8fd8-146881e835f2",
        "colab": {
          "base_uri": "https://localhost:8080/",
          "height": 237
        }
      },
      "execution_count": 20,
      "outputs": [
        {
          "output_type": "execute_result",
          "data": {
            "text/plain": [
              "                Open      High       Low     Close      Volume\n",
              "Date                                                          \n",
              "2021-09-27  42680.34  42802.13  42098.00  42147.35  1981.83444\n",
              "2021-09-28  41548.45  41549.56  40888.00  41026.54  1643.33144\n",
              "2021-09-29  41409.37  41580.67  41375.63  41524.28   472.27911\n",
              "2021-09-30  43718.54  43900.00  43704.02  43824.10   477.37185\n",
              "2021-10-01  48026.54  48171.37  47954.76  48141.61   434.44912"
            ],
            "text/html": [
              "\n",
              "  <div id=\"df-a406d430-13f3-4faf-9262-4cd5c180e072\">\n",
              "    <div class=\"colab-df-container\">\n",
              "      <div>\n",
              "<style scoped>\n",
              "    .dataframe tbody tr th:only-of-type {\n",
              "        vertical-align: middle;\n",
              "    }\n",
              "\n",
              "    .dataframe tbody tr th {\n",
              "        vertical-align: top;\n",
              "    }\n",
              "\n",
              "    .dataframe thead th {\n",
              "        text-align: right;\n",
              "    }\n",
              "</style>\n",
              "<table border=\"1\" class=\"dataframe\">\n",
              "  <thead>\n",
              "    <tr style=\"text-align: right;\">\n",
              "      <th></th>\n",
              "      <th>Open</th>\n",
              "      <th>High</th>\n",
              "      <th>Low</th>\n",
              "      <th>Close</th>\n",
              "      <th>Volume</th>\n",
              "    </tr>\n",
              "    <tr>\n",
              "      <th>Date</th>\n",
              "      <th></th>\n",
              "      <th></th>\n",
              "      <th></th>\n",
              "      <th></th>\n",
              "      <th></th>\n",
              "    </tr>\n",
              "  </thead>\n",
              "  <tbody>\n",
              "    <tr>\n",
              "      <th>2021-09-27</th>\n",
              "      <td>42680.34</td>\n",
              "      <td>42802.13</td>\n",
              "      <td>42098.00</td>\n",
              "      <td>42147.35</td>\n",
              "      <td>1981.83444</td>\n",
              "    </tr>\n",
              "    <tr>\n",
              "      <th>2021-09-28</th>\n",
              "      <td>41548.45</td>\n",
              "      <td>41549.56</td>\n",
              "      <td>40888.00</td>\n",
              "      <td>41026.54</td>\n",
              "      <td>1643.33144</td>\n",
              "    </tr>\n",
              "    <tr>\n",
              "      <th>2021-09-29</th>\n",
              "      <td>41409.37</td>\n",
              "      <td>41580.67</td>\n",
              "      <td>41375.63</td>\n",
              "      <td>41524.28</td>\n",
              "      <td>472.27911</td>\n",
              "    </tr>\n",
              "    <tr>\n",
              "      <th>2021-09-30</th>\n",
              "      <td>43718.54</td>\n",
              "      <td>43900.00</td>\n",
              "      <td>43704.02</td>\n",
              "      <td>43824.10</td>\n",
              "      <td>477.37185</td>\n",
              "    </tr>\n",
              "    <tr>\n",
              "      <th>2021-10-01</th>\n",
              "      <td>48026.54</td>\n",
              "      <td>48171.37</td>\n",
              "      <td>47954.76</td>\n",
              "      <td>48141.61</td>\n",
              "      <td>434.44912</td>\n",
              "    </tr>\n",
              "  </tbody>\n",
              "</table>\n",
              "</div>\n",
              "      <button class=\"colab-df-convert\" onclick=\"convertToInteractive('df-a406d430-13f3-4faf-9262-4cd5c180e072')\"\n",
              "              title=\"Convert this dataframe to an interactive table.\"\n",
              "              style=\"display:none;\">\n",
              "        \n",
              "  <svg xmlns=\"http://www.w3.org/2000/svg\" height=\"24px\"viewBox=\"0 0 24 24\"\n",
              "       width=\"24px\">\n",
              "    <path d=\"M0 0h24v24H0V0z\" fill=\"none\"/>\n",
              "    <path d=\"M18.56 5.44l.94 2.06.94-2.06 2.06-.94-2.06-.94-.94-2.06-.94 2.06-2.06.94zm-11 1L8.5 8.5l.94-2.06 2.06-.94-2.06-.94L8.5 2.5l-.94 2.06-2.06.94zm10 10l.94 2.06.94-2.06 2.06-.94-2.06-.94-.94-2.06-.94 2.06-2.06.94z\"/><path d=\"M17.41 7.96l-1.37-1.37c-.4-.4-.92-.59-1.43-.59-.52 0-1.04.2-1.43.59L10.3 9.45l-7.72 7.72c-.78.78-.78 2.05 0 2.83L4 21.41c.39.39.9.59 1.41.59.51 0 1.02-.2 1.41-.59l7.78-7.78 2.81-2.81c.8-.78.8-2.07 0-2.86zM5.41 20L4 18.59l7.72-7.72 1.47 1.35L5.41 20z\"/>\n",
              "  </svg>\n",
              "      </button>\n",
              "      \n",
              "  <style>\n",
              "    .colab-df-container {\n",
              "      display:flex;\n",
              "      flex-wrap:wrap;\n",
              "      gap: 12px;\n",
              "    }\n",
              "\n",
              "    .colab-df-convert {\n",
              "      background-color: #E8F0FE;\n",
              "      border: none;\n",
              "      border-radius: 50%;\n",
              "      cursor: pointer;\n",
              "      display: none;\n",
              "      fill: #1967D2;\n",
              "      height: 32px;\n",
              "      padding: 0 0 0 0;\n",
              "      width: 32px;\n",
              "    }\n",
              "\n",
              "    .colab-df-convert:hover {\n",
              "      background-color: #E2EBFA;\n",
              "      box-shadow: 0px 1px 2px rgba(60, 64, 67, 0.3), 0px 1px 3px 1px rgba(60, 64, 67, 0.15);\n",
              "      fill: #174EA6;\n",
              "    }\n",
              "\n",
              "    [theme=dark] .colab-df-convert {\n",
              "      background-color: #3B4455;\n",
              "      fill: #D2E3FC;\n",
              "    }\n",
              "\n",
              "    [theme=dark] .colab-df-convert:hover {\n",
              "      background-color: #434B5C;\n",
              "      box-shadow: 0px 1px 3px 1px rgba(0, 0, 0, 0.15);\n",
              "      filter: drop-shadow(0px 1px 2px rgba(0, 0, 0, 0.3));\n",
              "      fill: #FFFFFF;\n",
              "    }\n",
              "  </style>\n",
              "\n",
              "      <script>\n",
              "        const buttonEl =\n",
              "          document.querySelector('#df-a406d430-13f3-4faf-9262-4cd5c180e072 button.colab-df-convert');\n",
              "        buttonEl.style.display =\n",
              "          google.colab.kernel.accessAllowed ? 'block' : 'none';\n",
              "\n",
              "        async function convertToInteractive(key) {\n",
              "          const element = document.querySelector('#df-a406d430-13f3-4faf-9262-4cd5c180e072');\n",
              "          const dataTable =\n",
              "            await google.colab.kernel.invokeFunction('convertToInteractive',\n",
              "                                                     [key], {});\n",
              "          if (!dataTable) return;\n",
              "\n",
              "          const docLinkHtml = 'Like what you see? Visit the ' +\n",
              "            '<a target=\"_blank\" href=https://colab.research.google.com/notebooks/data_table.ipynb>data table notebook</a>'\n",
              "            + ' to learn more about interactive tables.';\n",
              "          element.innerHTML = '';\n",
              "          dataTable['output_type'] = 'display_data';\n",
              "          await google.colab.output.renderOutput(dataTable, element);\n",
              "          const docLink = document.createElement('div');\n",
              "          docLink.innerHTML = docLinkHtml;\n",
              "          element.appendChild(docLink);\n",
              "        }\n",
              "      </script>\n",
              "    </div>\n",
              "  </div>\n",
              "  "
            ]
          },
          "metadata": {},
          "execution_count": 20
        }
      ]
    },
    {
      "cell_type": "code",
      "source": [
        "from pmdarima.model_selection import train_test_split\n",
        "\n",
        "train_data, test_data = train_test_split(df['Close'], test_size = 70)\n",
        "test_data.shape, train_data.shape"
      ],
      "metadata": {
        "id": "YyiNd67l_Cbe",
        "outputId": "a8b64976-fe1c-4c4d-8ca6-6f77b9300790",
        "colab": {
          "base_uri": "https://localhost:8080/"
        }
      },
      "execution_count": 21,
      "outputs": [
        {
          "output_type": "execute_result",
          "data": {
            "text/plain": [
              "((70,), (296,))"
            ]
          },
          "metadata": {},
          "execution_count": 21
        }
      ]
    },
    {
      "cell_type": "markdown",
      "source": [
        "## Step 3: Handle Missings"
      ],
      "metadata": {
        "id": "8R_qd2_DD1Sn"
      }
    },
    {
      "cell_type": "code",
      "source": [
        "df.shape"
      ],
      "metadata": {
        "id": "R83coZdbVCOt",
        "outputId": "bc391671-e8b7-49b9-d892-c4fc3568046c",
        "colab": {
          "base_uri": "https://localhost:8080/"
        }
      },
      "execution_count": 22,
      "outputs": [
        {
          "output_type": "execute_result",
          "data": {
            "text/plain": [
              "(366, 5)"
            ]
          },
          "metadata": {},
          "execution_count": 22
        }
      ]
    },
    {
      "cell_type": "code",
      "source": [
        "df.isna().sum()"
      ],
      "metadata": {
        "id": "v9cU0xUED--O",
        "outputId": "8a660b82-90c2-488d-ed91-5d6108a335cd",
        "colab": {
          "base_uri": "https://localhost:8080/"
        }
      },
      "execution_count": 23,
      "outputs": [
        {
          "output_type": "execute_result",
          "data": {
            "text/plain": [
              "Open      0\n",
              "High      0\n",
              "Low       0\n",
              "Close     0\n",
              "Volume    0\n",
              "dtype: int64"
            ]
          },
          "metadata": {},
          "execution_count": 23
        }
      ]
    },
    {
      "cell_type": "code",
      "source": [
        "#The dataset look fine now, let's save it for future work.\n",
        "df.to_csv('bitcoin_price.csv')"
      ],
      "metadata": {
        "id": "fMdPymt6uDbA"
      },
      "execution_count": 24,
      "outputs": []
    },
    {
      "cell_type": "markdown",
      "source": [
        "## Step 4: Quick visualization"
      ],
      "metadata": {
        "id": "9h5HSOM5EbXt"
      }
    },
    {
      "cell_type": "code",
      "source": [
        "fig = plt.figure(figsize=[20, 10]);\n",
        "plt.suptitle('Close price visualization', fontsize=22)\n",
        "\n",
        "plt.subplot(221)\n",
        "plt.plot(df['Close'], '-', label= 'day');\n",
        "plt.legend();\n",
        "\n",
        "plt.subplot(222)\n",
        "df['Close'].plot(kind = 'kde');\n",
        "plt.legend();"
      ],
      "metadata": {
        "id": "4ikoM_lpEwSM",
        "outputId": "a7986cbe-c863-4391-d447-5ddb8f21b93f",
        "colab": {
          "base_uri": "https://localhost:8080/",
          "height": 0
        }
      },
      "execution_count": 25,
      "outputs": [
        {
          "output_type": "display_data",
          "data": {
            "text/plain": [
              "<Figure size 1440x720 with 2 Axes>"
            ],
            "image/png": "[encoded data removed]"
          },
          "metadata": {
            "needs_background": "light"
          }
        }
      ]
    },
    {
      "cell_type": "code",
      "source": [
        "from statsmodels.tsa.seasonal import seasonal_decompose\n",
        "result = seasonal_decompose(df['Close'], model='multiplicative', period = 3)"
      ],
      "metadata": {
        "id": "iSBNWaNZ0qpC"
      },
      "execution_count": 26,
      "outputs": []
    },
    {
      "cell_type": "code",
      "source": [
        "fig = plt.figure()\n",
        "fig = result.plot()\n",
        "fig.set_size_inches(25, 7)"
      ],
      "metadata": {
        "id": "lEyLu9HN-Pnb",
        "outputId": "1aac0fe9-de38-4ea6-a910-73cc86c04d35",
        "colab": {
          "base_uri": "https://localhost:8080/",
          "height": 0
        }
      },
      "execution_count": 27,
      "outputs": [
        {
          "output_type": "display_data",
          "data": {
            "text/plain": [
              "<Figure size 432x288 with 0 Axes>"
            ]
          },
          "metadata": {}
        },
        {
          "output_type": "display_data",
          "data": {
            "text/plain": [
              "<Figure size 1800x504 with 4 Axes>"
            ],
            "image/png": "[encoded data removed]"
          },
          "metadata": {
            "needs_background": "light"
          }
        }
      ]
    },
    {
      "cell_type": "markdown",
      "source": [
        "## Step 5: Stationarity test"
      ],
      "metadata": {
        "id": "_7r5UpbNVemN"
      }
    },
    {
      "cell_type": "code",
      "source": [
        "from statsmodels.tsa.stattools import adfuller"
      ],
      "metadata": {
        "id": "6ran6IvKVlVe"
      },
      "execution_count": 28,
      "outputs": []
    },
    {
      "cell_type": "code",
      "source": [
        "# H0 : It is not stationary\n",
        "# H1 : It is stationary\n",
        "def adfuller_test(close_price):\n",
        "  test_result = adfuller(close_price)\n",
        "  labels = ['Test Statistic', 'p_value', 'Lag', 'Number of observations']\n",
        "  for result, label in zip(test_result, labels):\n",
        "    print(label + ' : ' + str(result))\n",
        "  for key,value in test_result[4].items():\n",
        "    print(f\"critical value {key} :=  {value}\")\n",
        "  \n",
        "adfuller_test(df['Close'])"
      ],
      "metadata": {
        "id": "FdyfpT7SV6l7",
        "outputId": "849cd932-d7c5-4bc0-c7dc-53c96bc6f09b",
        "colab": {
          "base_uri": "https://localhost:8080/"
        }
      },
      "execution_count": 29,
      "outputs": [
        {
          "output_type": "stream",
          "name": "stdout",
          "text": [
            "Test Statistic : -0.48683035626274185\n",
            "p_value : 0.8945609433187011\n",
            "Lag : 0\n",
            "Number of observations : 365\n",
            "critical value 1% :=  -3.4483935212959844\n",
            "critical value 5% :=  -2.8694912343676497\n",
            "critical value 10% :=  -2.571005879151811\n"
          ]
        }
      ]
    },
    {
      "cell_type": "markdown",
      "source": [
        "We can see that the p_value is much greater than 0.05 and also the test statistic is greater than all critical values so the data is non-stationary."
      ],
      "metadata": {
        "id": "1bAtuyhy7uaQ"
      }
    },
    {
      "cell_type": "code",
      "source": [
        "df['seasonal_first_difference'] = df['Close'] - df['Close'].shift(1)\n",
        "df['seasonal_first_difference'][0:5]"
      ],
      "metadata": {
        "id": "5eN1v8tZ63VU",
        "outputId": "30a7136f-2de9-4970-c666-9642d27df1c2",
        "colab": {
          "base_uri": "https://localhost:8080/"
        }
      },
      "execution_count": 30,
      "outputs": [
        {
          "output_type": "execute_result",
          "data": {
            "text/plain": [
              "Date\n",
              "2021-09-27        NaN\n",
              "2021-09-28   -1120.81\n",
              "2021-09-29     497.74\n",
              "2021-09-30    2299.82\n",
              "2021-10-01    4317.51\n",
              "Name: seasonal_first_difference, dtype: float64"
            ]
          },
          "metadata": {},
          "execution_count": 30
        }
      ]
    },
    {
      "cell_type": "code",
      "source": [
        "plt.plot(df['seasonal_first_difference'])"
      ],
      "metadata": {
        "id": "xFfUUjLP7QWo",
        "outputId": "b9d7506c-9e12-41ed-819c-add383dc1083",
        "colab": {
          "base_uri": "https://localhost:8080/",
          "height": 0
        }
      },
      "execution_count": 31,
      "outputs": [
        {
          "output_type": "execute_result",
          "data": {
            "text/plain": [
              "[<matplotlib.lines.Line2D at 0x7fb844031d10>]"
            ]
          },
          "metadata": {},
          "execution_count": 31
        },
        {
          "output_type": "display_data",
          "data": {
            "text/plain": [
              "<Figure size 432x288 with 1 Axes>"
            ],
            "image/png": "[encoded data removed]"
          },
          "metadata": {
            "needs_background": "light"
          }
        }
      ]
    },
    {
      "cell_type": "code",
      "source": [
        "# Lets see the adf test result after differencing.\n",
        "adfuller_test(df['seasonal_first_difference'].dropna())"
      ],
      "metadata": {
        "id": "qXqGmhbW4cpu",
        "outputId": "9d05249c-bd69-4287-afe2-f656715df4f7",
        "colab": {
          "base_uri": "https://localhost:8080/"
        }
      },
      "execution_count": 32,
      "outputs": [
        {
          "output_type": "stream",
          "name": "stdout",
          "text": [
            "Test Statistic : -14.297340705864363\n",
            "p_value : 1.2459479029446355e-26\n",
            "Lag : 1\n",
            "Number of observations : 363\n",
            "critical value 1% :=  -3.448493650810824\n",
            "critical value 5% :=  -2.8695352280356556\n",
            "critical value 10% :=  -2.5710293341377715\n"
          ]
        }
      ]
    },
    {
      "cell_type": "markdown",
      "source": [
        "The p_value is now less than 0.05 so we can reject the NULL hypothesis and the data is now stationary"
      ],
      "metadata": {
        "id": "kRAltjIDMppB"
      }
    },
    {
      "cell_type": "markdown",
      "source": [
        "##Step 6: Identifying the order of AR and MA terms"
      ],
      "metadata": {
        "id": "byOvE0RyrrU5"
      }
    },
    {
      "cell_type": "code",
      "source": [
        "#Plot PACF & ACF chart\n",
        "from statsmodels.graphics.tsaplots import plot_acf,plot_pacf\n",
        "\n",
        "fig = plt.figure(figsize=(12,8))\n",
        "ax1 = fig.add_subplot(211)\n",
        "fig = plot_acf(df['seasonal_first_difference'].dropna(),lags=30,ax=ax1)\n",
        "ax2 = fig.add_subplot(212)\n",
        "fig = plot_pacf(df['seasonal_first_difference'].dropna(),lags=30,ax=ax2)"
      ],
      "metadata": {
        "id": "NfN1zaUIMfQW",
        "outputId": "b8f56426-1244-43ef-eef8-4d6be43c4a65",
        "colab": {
          "base_uri": "https://localhost:8080/",
          "height": 0
        }
      },
      "execution_count": 33,
      "outputs": [
        {
          "output_type": "stream",
          "name": "stderr",
          "text": [
            "/usr/local/lib/python3.7/dist-packages/statsmodels/graphics/tsaplots.py:353: FutureWarning: The default method 'yw' can produce PACF values outside of the [-1,1] interval. After 0.13, the default will change tounadjusted Yule-Walker ('ywm'). You can use this method now by setting method='ywm'.\n",
            "  FutureWarning,\n"
          ]
        },
        {
          "output_type": "display_data",
          "data": {
            "text/plain": [
              "<Figure size 864x576 with 2 Axes>"
            ],
            "image/png": "[encoded data removed]"
          },
          "metadata": {
            "needs_background": "light"
          }
        }
      ]
    },
    {
      "cell_type": "markdown",
      "source": [
        "So we can see here the p = 2, d = 2, q = 6, let's move on to build the model."
      ],
      "metadata": {
        "id": "BuehX6yU3PBN"
      }
    },
    {
      "cell_type": "markdown",
      "source": [
        "##Step 7: Modeling"
      ],
      "metadata": {
        "id": "CFKsNzfE3ddf"
      }
    },
    {
      "cell_type": "code",
      "source": [
        "from pmdarima.arima import auto_arima"
      ],
      "metadata": {
        "id": "9oKlqJGjiLne"
      },
      "execution_count": 34,
      "outputs": []
    },
    {
      "cell_type": "code",
      "source": [
        "# arima_model = auto_arima(train_data, start_p=1, start_q=1,\n",
        "#                            max_p=3, max_q=3, m=12,\n",
        "#                            start_P=0, seasonal=True,\n",
        "#                            d=1, D=1, trace=True,\n",
        "#                            error_action='ignore',  \n",
        "#                            suppress_warnings=True, \n",
        "#                            stepwise=True) \n",
        "# print(arima_model.summary())\n",
        "# arima_model.plot_diagnostics(figsize=(15,8))\n",
        "# plt.show()"
      ],
      "metadata": {
        "id": "9tVPl51-809l"
      },
      "execution_count": 35,
      "outputs": []
    },
    {
      "cell_type": "code",
      "source": [
        "import statsmodels.api as sa"
      ],
      "metadata": {
        "id": "W_eL_ak9s2lW"
      },
      "execution_count": 36,
      "outputs": []
    },
    {
      "cell_type": "code",
      "source": [
        "model=sa.tsa.statespace.SARIMAX(train_data,order=(0, 1, 1),seasonal_order=(2,1,0,12))\n",
        "results=model.fit()"
      ],
      "metadata": {
        "id": "DGWvE8U34qF6",
        "outputId": "5f012f94-8db3-4063-d7ff-2080c055cad0",
        "colab": {
          "base_uri": "https://localhost:8080/"
        }
      },
      "execution_count": 37,
      "outputs": [
        {
          "output_type": "stream",
          "name": "stderr",
          "text": [
            "/usr/local/lib/python3.7/dist-packages/statsmodels/tsa/base/tsa_model.py:471: ValueWarning: No frequency information was provided, so inferred frequency D will be used.\n",
            "  self._init_dates(dates, freq)\n",
            "/usr/local/lib/python3.7/dist-packages/statsmodels/tsa/base/tsa_model.py:471: ValueWarning: No frequency information was provided, so inferred frequency D will be used.\n",
            "  self._init_dates(dates, freq)\n"
          ]
        }
      ]
    },
    {
      "cell_type": "code",
      "source": [
        "results.summary()"
      ],
      "metadata": {
        "id": "gdHAMmZo4-9C",
        "outputId": "66a73b3c-96e6-4898-e6ff-8a4b85ccebd1",
        "colab": {
          "base_uri": "https://localhost:8080/",
          "height": 464
        }
      },
      "execution_count": 38,
      "outputs": [
        {
          "output_type": "execute_result",
          "data": {
            "text/plain": [
              "<class 'statsmodels.iolib.summary.Summary'>\n",
              "\"\"\"\n",
              "                                      SARIMAX Results                                      \n",
              "===========================================================================================\n",
              "Dep. Variable:                               Close   No. Observations:                  296\n",
              "Model:             SARIMAX(0, 1, 1)x(2, 1, [], 12)   Log Likelihood               -2536.168\n",
              "Date:                             Thu, 27 Oct 2022   AIC                           5080.335\n",
              "Time:                                     14:36:16   BIC                           5094.917\n",
              "Sample:                                 09-27-2021   HQIC                          5086.182\n",
              "                                      - 07-19-2022                                         \n",
              "Covariance Type:                               opg                                         \n",
              "==============================================================================\n",
              "                 coef    std err          z      P>|z|      [0.025      0.975]\n",
              "------------------------------------------------------------------------------\n",
              "ma.L1         -0.0077      0.079     -0.098      0.922      -0.162       0.146\n",
              "ar.S.L12      -0.4111      0.025    -16.435      0.000      -0.460      -0.362\n",
              "ar.S.L24      -0.2665      0.025    -10.680      0.000      -0.315      -0.218\n",
              "sigma2      4.468e+06   1.32e-09   3.39e+15      0.000    4.47e+06    4.47e+06\n",
              "===================================================================================\n",
              "Ljung-Box (L1) (Q):                   0.03   Jarque-Bera (JB):               112.74\n",
              "Prob(Q):                              0.87   Prob(JB):                         0.00\n",
              "Heteroskedasticity (H):               0.32   Skew:                            -0.58\n",
              "Prob(H) (two-sided):                  0.00   Kurtosis:                         5.86\n",
              "===================================================================================\n",
              "\n",
              "Warnings:\n",
              "[1] Covariance matrix calculated using the outer product of gradients (complex-step).\n",
              "[2] Covariance matrix is singular or near-singular, with condition number 9.2e+30. Standard errors may be unstable.\n",
              "\"\"\""
            ],
            "text/html": [
              "<table class=\"simpletable\">\n",
              "<caption>SARIMAX Results</caption>\n",
              "<tr>\n",
              "  <th>Dep. Variable:</th>                <td>Close</td>              <th>  No. Observations:  </th>    <td>296</td>   \n",
              "</tr>\n",
              "<tr>\n",
              "  <th>Model:</th>           <td>SARIMAX(0, 1, 1)x(2, 1, [], 12)</td> <th>  Log Likelihood     </th> <td>-2536.168</td>\n",
              "</tr>\n",
              "<tr>\n",
              "  <th>Date:</th>                   <td>Thu, 27 Oct 2022</td>         <th>  AIC                </th> <td>5080.335</td> \n",
              "</tr>\n",
              "<tr>\n",
              "  <th>Time:</th>                       <td>14:36:16</td>             <th>  BIC                </th> <td>5094.917</td> \n",
              "</tr>\n",
              "<tr>\n",
              "  <th>Sample:</th>                    <td>09-27-2021</td>            <th>  HQIC               </th> <td>5086.182</td> \n",
              "</tr>\n",
              "<tr>\n",
              "  <th></th>                          <td>- 07-19-2022</td>           <th>                     </th>     <td> </td>    \n",
              "</tr>\n",
              "<tr>\n",
              "  <th>Covariance Type:</th>               <td>opg</td>               <th>                     </th>     <td> </td>    \n",
              "</tr>\n",
              "</table>\n",
              "<table class=\"simpletable\">\n",
              "<tr>\n",
              "      <td></td>        <th>coef</th>     <th>std err</th>      <th>z</th>      <th>P>|z|</th>  <th>[0.025</th>    <th>0.975]</th>  \n",
              "</tr>\n",
              "<tr>\n",
              "  <th>ma.L1</th>    <td>   -0.0077</td> <td>    0.079</td> <td>   -0.098</td> <td> 0.922</td> <td>   -0.162</td> <td>    0.146</td>\n",
              "</tr>\n",
              "<tr>\n",
              "  <th>ar.S.L12</th> <td>   -0.4111</td> <td>    0.025</td> <td>  -16.435</td> <td> 0.000</td> <td>   -0.460</td> <td>   -0.362</td>\n",
              "</tr>\n",
              "<tr>\n",
              "  <th>ar.S.L24</th> <td>   -0.2665</td> <td>    0.025</td> <td>  -10.680</td> <td> 0.000</td> <td>   -0.315</td> <td>   -0.218</td>\n",
              "</tr>\n",
              "<tr>\n",
              "  <th>sigma2</th>   <td> 4.468e+06</td> <td> 1.32e-09</td> <td> 3.39e+15</td> <td> 0.000</td> <td> 4.47e+06</td> <td> 4.47e+06</td>\n",
              "</tr>\n",
              "</table>\n",
              "<table class=\"simpletable\">\n",
              "<tr>\n",
              "  <th>Ljung-Box (L1) (Q):</th>     <td>0.03</td> <th>  Jarque-Bera (JB):  </th> <td>112.74</td>\n",
              "</tr>\n",
              "<tr>\n",
              "  <th>Prob(Q):</th>                <td>0.87</td> <th>  Prob(JB):          </th>  <td>0.00</td> \n",
              "</tr>\n",
              "<tr>\n",
              "  <th>Heteroskedasticity (H):</th> <td>0.32</td> <th>  Skew:              </th>  <td>-0.58</td>\n",
              "</tr>\n",
              "<tr>\n",
              "  <th>Prob(H) (two-sided):</th>    <td>0.00</td> <th>  Kurtosis:          </th>  <td>5.86</td> \n",
              "</tr>\n",
              "</table><br/><br/>Warnings:<br/>[1] Covariance matrix calculated using the outer product of gradients (complex-step).<br/>[2] Covariance matrix is singular or near-singular, with condition number 9.2e+30. Standard errors may be unstable."
            ]
          },
          "metadata": {},
          "execution_count": 38
        }
      ]
    },
    {
      "cell_type": "code",
      "source": [
        "df['forecast'] = results.predict(start = 296, end = 296 + 70, dynamic = True)\n",
        "df[['Close','forecast']].plot(figsize=(15,7))"
      ],
      "metadata": {
        "id": "llcvfBIB5IbL",
        "outputId": "f8b89efd-0f29-45b9-fef8-70993505f756",
        "colab": {
          "base_uri": "https://localhost:8080/",
          "height": 472
        }
      },
      "execution_count": 39,
      "outputs": [
        {
          "output_type": "execute_result",
          "data": {
            "text/plain": [
              "<matplotlib.axes._subplots.AxesSubplot at 0x7fb83f72e4d0>"
            ]
          },
          "metadata": {},
          "execution_count": 39
        },
        {
          "output_type": "display_data",
          "data": {
            "text/plain": [
              "<Figure size 1080x504 with 1 Axes>"
            ],
            "image/png": "[encoded data removed]"
          },
          "metadata": {
            "needs_background": "light"
          }
        }
      ]
    },
    {
      "cell_type": "markdown",
      "source": [
        "We see that in the first phase of the prediction, the orange line fit well to the actual line but the rest of the result of the test set, the prediction line still goes up and therefore it is not accurate."
      ],
      "metadata": {
        "id": "6-snf9kruu8t"
      }
    },
    {
      "cell_type": "code",
      "source": [
        "#Score the prediction\n",
        "from sklearn.metrics import mean_absolute_error\n",
        "from sklearn.metrics import mean_squared_error\n",
        "import math\n",
        "\n",
        "y_pred = df['forecast'].dropna().reset_index(drop= True)\n",
        "mse = mean_squared_error(test_data, y_pred)\n",
        "print('MSE: '+str(mse))\n",
        "mae = mean_absolute_error(test_data, y_pred)\n",
        "print('MAE: '+str(mae))\n",
        "rmse = math.sqrt(mean_squared_error(test_data, y_pred))\n",
        "print('RMSE: '+str(rmse))\n",
        "mape = np.mean(np.abs(y_pred - test_data)/np.abs(test_data))\n",
        "print('MAPE: '+str(mape))\n"
      ],
      "metadata": {
        "id": "NpmpRX7L5ZEi",
        "outputId": "e1ff6320-6969-4ac4-b535-35abb244ba43",
        "colab": {
          "base_uri": "https://localhost:8080/"
        }
      },
      "execution_count": 54,
      "outputs": [
        {
          "output_type": "stream",
          "name": "stdout",
          "text": [
            "MSE: 19430827.453384463\n",
            "MAE: 3405.0659528785172\n",
            "RMSE: 4408.041226370786\n",
            "MAPE: nan\n"
          ]
        },
        {
          "output_type": "stream",
          "name": "stderr",
          "text": [
            "/usr/local/lib/python3.7/dist-packages/pandas/core/indexes/base.py:4024: RuntimeWarning: '<' not supported between instances of 'int' and 'Timestamp', sort order is undefined for incomparable objects\n",
            "  join_index = self.union(other)\n"
          ]
        }
      ]
    },
    {
      "cell_type": "code",
      "source": [],
      "metadata": {
        "id": "OdTVoVW5x9Tg"
      },
      "execution_count": null,
      "outputs": []
    }
  ],
  "metadata": {
    "language_info": {
      "name": "python"
    },
    "orig_nbformat": 4,
    "colab": {
      "provenance": []
    },
    "kernelspec": {
      "name": "python3",
      "display_name": "Python 3"
    }
  },
  "nbformat": 4,
  "nbformat_minor": 0
}